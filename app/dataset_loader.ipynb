{
 "cells": [
  {
   "cell_type": "markdown",
   "metadata": {
    "toc": true
   },
   "source": [
    "<h1>Table of contents<span class=\"tocSkip\"></span></h1>\n",
    "<div class=\"toc\"><ul class=\"toc-item\"><li><span><a href=\"#load-data\" data-toc-modified-id=\"load-data-1\"><span class=\"toc-item-num\">1&nbsp;&nbsp;</span>load data</a></span></li><li><span><a href=\"#clean-corpus\" data-toc-modified-id=\"clean-corpus-2\"><span class=\"toc-item-num\">2&nbsp;&nbsp;</span>clean corpus</a></span><ul class=\"toc-item\"><li><span><a href=\"#dataframe-cleaning\" data-toc-modified-id=\"dataframe-cleaning-2.1\"><span class=\"toc-item-num\">2.1&nbsp;&nbsp;</span>dataframe cleaning</a></span></li><li><span><a href=\"#text-cleaning\" data-toc-modified-id=\"text-cleaning-2.2\"><span class=\"toc-item-num\">2.2&nbsp;&nbsp;</span>text cleaning</a></span></li></ul></li><li><span><a href=\"#downsampling\" data-toc-modified-id=\"downsampling-3\"><span class=\"toc-item-num\">3&nbsp;&nbsp;</span>downsampling</a></span></li></ul></div>"
   ]
  },
  {
   "cell_type": "markdown",
   "metadata": {},
   "source": [
    "**Dataset**:<br>\n",
    "Amazon Reviews: https://nijianmo.github.io/amazon/index.html"
   ]
  },
  {
   "cell_type": "code",
   "execution_count": 1,
   "metadata": {},
   "outputs": [],
   "source": [
    "import os\n",
    "import json\n",
    "import gzip\n",
    "import pandas as pd\n",
    "from urllib.request import urlopen\n",
    "\n",
    "from utils import clean_text, random_downsampling"
   ]
  },
  {
   "cell_type": "markdown",
   "metadata": {},
   "source": [
    "# load data"
   ]
  },
  {
   "cell_type": "code",
   "execution_count": 9,
   "metadata": {},
   "outputs": [
    {
     "name": "stdout",
     "output_type": "stream",
     "text": [
      "Done loading.\n"
     ]
    }
   ],
   "source": [
    "\"\"\" very time consuming\n",
    "\n",
    "data = []\n",
    "with gzip.open('../corpora/Electronics_5.json.gz') as f:\n",
    "    for l in f:\n",
    "        data.append(json.loads(l.strip()))\n",
    "\n",
    "df = pd.DataFrame.from_dict(data)\n",
    "\n",
    "big_corpus = df[[\"overall\", \"reviewerName\", \"reviewText\", \n",
    "                  \"summary\", \"verified\", \"vote\", \"reviewTime\"]]\n",
    "                  \n",
    "big_corpus.to_csv(\"../corpora/amazon_reviews_electronic.csv\", index=False)\n",
    "\"\"\"\n",
    "print(\"Done loading.\")"
   ]
  },
  {
   "cell_type": "markdown",
   "metadata": {},
   "source": [
    "# clean corpus"
   ]
  },
  {
   "cell_type": "code",
   "execution_count": 2,
   "metadata": {},
   "outputs": [],
   "source": [
    "PATH = \"../corpora/amazon_reviews_electronic.csv\"\n",
    "MIN_YEAR = 2018\n",
    "COMBINE_SUMMARY = False"
   ]
  },
  {
   "cell_type": "code",
   "execution_count": 3,
   "metadata": {},
   "outputs": [
    {
     "name": "stderr",
     "output_type": "stream",
     "text": [
      "<string>:2: DtypeWarning: Columns (5) have mixed types.Specify dtype option on import or set low_memory=False.\n"
     ]
    },
    {
     "name": "stdout",
     "output_type": "stream",
     "text": [
      "CPU times: user 54.7 s, sys: 12.1 s, total: 1min 6s\n",
      "Wall time: 1min 14s\n"
     ]
    }
   ],
   "source": [
    "%%time\n",
    "corpus = pd.read_csv(PATH)"
   ]
  },
  {
   "cell_type": "code",
   "execution_count": 12,
   "metadata": {},
   "outputs": [
    {
     "data": {
      "text/html": [
       "<div>\n",
       "<style scoped>\n",
       "    .dataframe tbody tr th:only-of-type {\n",
       "        vertical-align: middle;\n",
       "    }\n",
       "\n",
       "    .dataframe tbody tr th {\n",
       "        vertical-align: top;\n",
       "    }\n",
       "\n",
       "    .dataframe thead th {\n",
       "        text-align: right;\n",
       "    }\n",
       "</style>\n",
       "<table border=\"1\" class=\"dataframe\">\n",
       "  <thead>\n",
       "    <tr style=\"text-align: right;\">\n",
       "      <th></th>\n",
       "      <th>overall</th>\n",
       "      <th>reviewerName</th>\n",
       "      <th>reviewText</th>\n",
       "      <th>summary</th>\n",
       "      <th>verified</th>\n",
       "      <th>vote</th>\n",
       "      <th>reviewTime</th>\n",
       "    </tr>\n",
       "  </thead>\n",
       "  <tbody>\n",
       "    <tr>\n",
       "      <th>0</th>\n",
       "      <td>5.0</td>\n",
       "      <td>D. C. Carrad</td>\n",
       "      <td>This is the best novel I have read in 2 or 3 y...</td>\n",
       "      <td>A star is born</td>\n",
       "      <td>True</td>\n",
       "      <td>67</td>\n",
       "      <td>09 18, 1999</td>\n",
       "    </tr>\n",
       "    <tr>\n",
       "      <th>1</th>\n",
       "      <td>3.0</td>\n",
       "      <td>Evy</td>\n",
       "      <td>Pages and pages of introspection, in the style...</td>\n",
       "      <td>A stream of consciousness novel</td>\n",
       "      <td>True</td>\n",
       "      <td>5</td>\n",
       "      <td>10 23, 2013</td>\n",
       "    </tr>\n",
       "    <tr>\n",
       "      <th>2</th>\n",
       "      <td>5.0</td>\n",
       "      <td>Kcorn</td>\n",
       "      <td>This is the kind of novel to read when you hav...</td>\n",
       "      <td>I'm a huge fan of the author and this one did ...</td>\n",
       "      <td>False</td>\n",
       "      <td>4</td>\n",
       "      <td>09 2, 2008</td>\n",
       "    </tr>\n",
       "    <tr>\n",
       "      <th>3</th>\n",
       "      <td>5.0</td>\n",
       "      <td>Caf Girl Writes</td>\n",
       "      <td>What gorgeous language! What an incredible wri...</td>\n",
       "      <td>The most beautiful book I have ever read!</td>\n",
       "      <td>False</td>\n",
       "      <td>13</td>\n",
       "      <td>09 4, 2000</td>\n",
       "    </tr>\n",
       "    <tr>\n",
       "      <th>4</th>\n",
       "      <td>3.0</td>\n",
       "      <td>W. Shane Schmidt</td>\n",
       "      <td>I was taken in by reviews that compared this b...</td>\n",
       "      <td>A dissenting view--In part.</td>\n",
       "      <td>True</td>\n",
       "      <td>8</td>\n",
       "      <td>02 4, 2000</td>\n",
       "    </tr>\n",
       "  </tbody>\n",
       "</table>\n",
       "</div>"
      ],
      "text/plain": [
       "   overall      reviewerName  \\\n",
       "0      5.0      D. C. Carrad   \n",
       "1      3.0               Evy   \n",
       "2      5.0             Kcorn   \n",
       "3      5.0   Caf Girl Writes   \n",
       "4      3.0  W. Shane Schmidt   \n",
       "\n",
       "                                          reviewText  \\\n",
       "0  This is the best novel I have read in 2 or 3 y...   \n",
       "1  Pages and pages of introspection, in the style...   \n",
       "2  This is the kind of novel to read when you hav...   \n",
       "3  What gorgeous language! What an incredible wri...   \n",
       "4  I was taken in by reviews that compared this b...   \n",
       "\n",
       "                                             summary  verified vote  \\\n",
       "0                                     A star is born      True   67   \n",
       "1                    A stream of consciousness novel      True    5   \n",
       "2  I'm a huge fan of the author and this one did ...     False    4   \n",
       "3          The most beautiful book I have ever read!     False   13   \n",
       "4                        A dissenting view--In part.      True    8   \n",
       "\n",
       "    reviewTime  \n",
       "0  09 18, 1999  \n",
       "1  10 23, 2013  \n",
       "2   09 2, 2008  \n",
       "3   09 4, 2000  \n",
       "4   02 4, 2000  "
      ]
     },
     "execution_count": 12,
     "metadata": {},
     "output_type": "execute_result"
    }
   ],
   "source": [
    "corpus.head()"
   ]
  },
  {
   "cell_type": "markdown",
   "metadata": {},
   "source": [
    "## dataframe cleaning"
   ]
  },
  {
   "cell_type": "code",
   "execution_count": 13,
   "metadata": {
    "collapsed": true
   },
   "outputs": [
    {
     "name": "stderr",
     "output_type": "stream",
     "text": [
      "/Users/jan/anaconda3/lib/python3.7/site-packages/pandas/core/ops/array_ops.py:253: FutureWarning: elementwise comparison failed; returning scalar instead, but in the future will perform elementwise comparison\n",
      "  res_values = method(rvalues)\n"
     ]
    },
    {
     "name": "stdout",
     "output_type": "stream",
     "text": [
      "CPU times: user 24.3 s, sys: 6.12 s, total: 30.4 s\n",
      "Wall time: 34.7 s\n"
     ]
    }
   ],
   "source": [
    "%%time\n",
    "corpus.vote = corpus.vote.fillna(0)\n",
    "corpus = corpus.fillna(\"\")\n",
    "\n",
    "\n",
    "# rename columns\n",
    "\n",
    "corpus = corpus.rename(columns={\"overall\": \"rating\", \n",
    "                                \"reviewerName\": \"name\",\n",
    "                                \"reviewText\": \"review\",\n",
    "                                \"reviewTime\": \"date\"})\n",
    "\n",
    "# no empty ratings, reviews & dates\n",
    "\n",
    "corpus = corpus[corpus.rating != \"\"]\n",
    "corpus = corpus[corpus.review != \"\"]\n",
    "corpus = corpus[corpus.date != \"\"]\n",
    "\n",
    "\n",
    "# change date\n",
    "\n",
    "def change_date(date):\n",
    "    day_month, year = str(date).split(\",\")\n",
    "    month, day = day_month.split(\" \")\n",
    "    \n",
    "    if len(day) <= 1:\n",
    "        day = \"0\" + str(day)\n",
    "        \n",
    "    \n",
    "    return f\"{day}.{month}.{str(year)[-4:]}\"\n",
    "\n",
    "# only reviews since a specific date\n",
    "\n",
    "def remove_dates(date, min_year):\n",
    "    year = int(str(date)[-4:])\n",
    "    if year < min_year:\n",
    "        return \"\"\n",
    "    else:\n",
    "        return date\n",
    "    \n",
    "corpus.date = corpus.date.apply(lambda x: remove_dates(x, MIN_YEAR))\n",
    "corpus = corpus[corpus.date != \"\"]\n",
    "\n",
    "corpus.date = corpus.date.apply(lambda x: change_date(x))\n",
    "\n",
    "\n",
    "# combine summary and review text\n",
    "\n",
    "if COMBINE_SUMMARY:\n",
    "    corpus['review'] = corpus[['summary', 'review']].apply(lambda x: \" \".join(str(y) for y in x if str(y) != 'nan'), axis = 1)\n",
    "del corpus[\"summary\"]"
   ]
  },
  {
   "cell_type": "code",
   "execution_count": 14,
   "metadata": {},
   "outputs": [
    {
     "data": {
      "text/html": [
       "<div>\n",
       "<style scoped>\n",
       "    .dataframe tbody tr th:only-of-type {\n",
       "        vertical-align: middle;\n",
       "    }\n",
       "\n",
       "    .dataframe tbody tr th {\n",
       "        vertical-align: top;\n",
       "    }\n",
       "\n",
       "    .dataframe thead th {\n",
       "        text-align: right;\n",
       "    }\n",
       "</style>\n",
       "<table border=\"1\" class=\"dataframe\">\n",
       "  <thead>\n",
       "    <tr style=\"text-align: right;\">\n",
       "      <th></th>\n",
       "      <th>rating</th>\n",
       "      <th>name</th>\n",
       "      <th>review</th>\n",
       "      <th>verified</th>\n",
       "      <th>vote</th>\n",
       "      <th>date</th>\n",
       "    </tr>\n",
       "  </thead>\n",
       "  <tbody>\n",
       "    <tr>\n",
       "      <th>4402338</th>\n",
       "      <td>5.0</td>\n",
       "      <td>KEVIN HENDERSON</td>\n",
       "      <td>Works great.</td>\n",
       "      <td>True</td>\n",
       "      <td>0</td>\n",
       "      <td>08.01.2018</td>\n",
       "    </tr>\n",
       "    <tr>\n",
       "      <th>4668412</th>\n",
       "      <td>5.0</td>\n",
       "      <td>Amazon Customer</td>\n",
       "      <td>Functions as expected-- never gives me any pro...</td>\n",
       "      <td>True</td>\n",
       "      <td>0</td>\n",
       "      <td>18.02.2018</td>\n",
       "    </tr>\n",
       "    <tr>\n",
       "      <th>980357</th>\n",
       "      <td>5.0</td>\n",
       "      <td>Robert W Vincent</td>\n",
       "      <td>Great mount, no problems.</td>\n",
       "      <td>True</td>\n",
       "      <td>0</td>\n",
       "      <td>14.03.2018</td>\n",
       "    </tr>\n",
       "    <tr>\n",
       "      <th>5644328</th>\n",
       "      <td>5.0</td>\n",
       "      <td>Birdman</td>\n",
       "      <td>Holds my Alien well and doesn't let my compute...</td>\n",
       "      <td>True</td>\n",
       "      <td>0</td>\n",
       "      <td>20.01.2018</td>\n",
       "    </tr>\n",
       "    <tr>\n",
       "      <th>2899963</th>\n",
       "      <td>5.0</td>\n",
       "      <td>R. Chung</td>\n",
       "      <td>The bright yellow sockets are a plus, other po...</td>\n",
       "      <td>True</td>\n",
       "      <td>0</td>\n",
       "      <td>04.06.2018</td>\n",
       "    </tr>\n",
       "    <tr>\n",
       "      <th>4459477</th>\n",
       "      <td>5.0</td>\n",
       "      <td>southman</td>\n",
       "      <td>I used this to house a 500gb hard drive salvag...</td>\n",
       "      <td>True</td>\n",
       "      <td>0</td>\n",
       "      <td>31.05.2018</td>\n",
       "    </tr>\n",
       "    <tr>\n",
       "      <th>4434343</th>\n",
       "      <td>5.0</td>\n",
       "      <td>Lindsay</td>\n",
       "      <td>I recently started doing some music videos and...</td>\n",
       "      <td>False</td>\n",
       "      <td>0</td>\n",
       "      <td>03.01.2018</td>\n",
       "    </tr>\n",
       "    <tr>\n",
       "      <th>6240646</th>\n",
       "      <td>1.0</td>\n",
       "      <td>Jason Drushel</td>\n",
       "      <td>Card literally died at the exact one year mark...</td>\n",
       "      <td>True</td>\n",
       "      <td>0</td>\n",
       "      <td>14.02.2018</td>\n",
       "    </tr>\n",
       "    <tr>\n",
       "      <th>3826691</th>\n",
       "      <td>5.0</td>\n",
       "      <td>Mary S. Murray</td>\n",
       "      <td>Everyone compliments me on this case. Second o...</td>\n",
       "      <td>True</td>\n",
       "      <td>0</td>\n",
       "      <td>17.03.2018</td>\n",
       "    </tr>\n",
       "    <tr>\n",
       "      <th>6712322</th>\n",
       "      <td>3.0</td>\n",
       "      <td>Aaron &amp;#034;Adub&amp;#034; Woodwell</td>\n",
       "      <td>Im honestly having a hard time deciding if the...</td>\n",
       "      <td>True</td>\n",
       "      <td>0</td>\n",
       "      <td>20.09.2018</td>\n",
       "    </tr>\n",
       "  </tbody>\n",
       "</table>\n",
       "</div>"
      ],
      "text/plain": [
       "         rating                             name  \\\n",
       "4402338     5.0                  KEVIN HENDERSON   \n",
       "4668412     5.0                  Amazon Customer   \n",
       "980357      5.0                 Robert W Vincent   \n",
       "5644328     5.0                          Birdman   \n",
       "2899963     5.0                         R. Chung   \n",
       "4459477     5.0                         southman   \n",
       "4434343     5.0                          Lindsay   \n",
       "6240646     1.0                    Jason Drushel   \n",
       "3826691     5.0                   Mary S. Murray   \n",
       "6712322     3.0  Aaron &#034;Adub&#034; Woodwell   \n",
       "\n",
       "                                                    review  verified vote  \\\n",
       "4402338                                       Works great.      True    0   \n",
       "4668412  Functions as expected-- never gives me any pro...      True    0   \n",
       "980357                           Great mount, no problems.      True    0   \n",
       "5644328  Holds my Alien well and doesn't let my compute...      True    0   \n",
       "2899963  The bright yellow sockets are a plus, other po...      True    0   \n",
       "4459477  I used this to house a 500gb hard drive salvag...      True    0   \n",
       "4434343  I recently started doing some music videos and...     False    0   \n",
       "6240646  Card literally died at the exact one year mark...      True    0   \n",
       "3826691  Everyone compliments me on this case. Second o...      True    0   \n",
       "6712322  Im honestly having a hard time deciding if the...      True    0   \n",
       "\n",
       "               date  \n",
       "4402338  08.01.2018  \n",
       "4668412  18.02.2018  \n",
       "980357   14.03.2018  \n",
       "5644328  20.01.2018  \n",
       "2899963  04.06.2018  \n",
       "4459477  31.05.2018  \n",
       "4434343  03.01.2018  \n",
       "6240646  14.02.2018  \n",
       "3826691  17.03.2018  \n",
       "6712322  20.09.2018  "
      ]
     },
     "execution_count": 14,
     "metadata": {},
     "output_type": "execute_result"
    }
   ],
   "source": [
    "corpus.sample(10)"
   ]
  },
  {
   "cell_type": "markdown",
   "metadata": {},
   "source": [
    "## text cleaning"
   ]
  },
  {
   "cell_type": "code",
   "execution_count": 15,
   "metadata": {},
   "outputs": [
    {
     "name": "stdout",
     "output_type": "stream",
     "text": [
      "CPU times: user 1min 13s, sys: 6.99 s, total: 1min 20s\n",
      "Wall time: 1min 22s\n"
     ]
    }
   ],
   "source": [
    "%%time\n",
    "corpus.review = corpus.review.apply(clean_text)\n",
    "corpus = corpus[corpus.review != \"\"]"
   ]
  },
  {
   "cell_type": "code",
   "execution_count": 16,
   "metadata": {},
   "outputs": [
    {
     "data": {
      "text/html": [
       "<div>\n",
       "<style scoped>\n",
       "    .dataframe tbody tr th:only-of-type {\n",
       "        vertical-align: middle;\n",
       "    }\n",
       "\n",
       "    .dataframe tbody tr th {\n",
       "        vertical-align: top;\n",
       "    }\n",
       "\n",
       "    .dataframe thead th {\n",
       "        text-align: right;\n",
       "    }\n",
       "</style>\n",
       "<table border=\"1\" class=\"dataframe\">\n",
       "  <thead>\n",
       "    <tr style=\"text-align: right;\">\n",
       "      <th></th>\n",
       "      <th>rating</th>\n",
       "      <th>name</th>\n",
       "      <th>review</th>\n",
       "      <th>verified</th>\n",
       "      <th>vote</th>\n",
       "      <th>date</th>\n",
       "    </tr>\n",
       "  </thead>\n",
       "  <tbody>\n",
       "    <tr>\n",
       "      <th>217</th>\n",
       "      <td>5.0</td>\n",
       "      <td>Problematic1963</td>\n",
       "      <td>I made a photo album for a senior friend who w...</td>\n",
       "      <td>True</td>\n",
       "      <td>0</td>\n",
       "      <td>27.01.2018</td>\n",
       "    </tr>\n",
       "    <tr>\n",
       "      <th>842</th>\n",
       "      <td>5.0</td>\n",
       "      <td>Tazman32</td>\n",
       "      <td>Great addition to our new Galaxy Ss which by t...</td>\n",
       "      <td>True</td>\n",
       "      <td>0</td>\n",
       "      <td>01.04.2018</td>\n",
       "    </tr>\n",
       "    <tr>\n",
       "      <th>843</th>\n",
       "      <td>5.0</td>\n",
       "      <td>Brian D. Carrico</td>\n",
       "      <td>Perfect</td>\n",
       "      <td>True</td>\n",
       "      <td>0</td>\n",
       "      <td>30.03.2018</td>\n",
       "    </tr>\n",
       "    <tr>\n",
       "      <th>844</th>\n",
       "      <td>4.0</td>\n",
       "      <td>Cici Ciconia</td>\n",
       "      <td>As described</td>\n",
       "      <td>True</td>\n",
       "      <td>0</td>\n",
       "      <td>30.03.2018</td>\n",
       "    </tr>\n",
       "    <tr>\n",
       "      <th>845</th>\n",
       "      <td>5.0</td>\n",
       "      <td>AJ</td>\n",
       "      <td>Great little card made my device better</td>\n",
       "      <td>True</td>\n",
       "      <td>0</td>\n",
       "      <td>27.03.2018</td>\n",
       "    </tr>\n",
       "  </tbody>\n",
       "</table>\n",
       "</div>"
      ],
      "text/plain": [
       "     rating              name  \\\n",
       "217     5.0   Problematic1963   \n",
       "842     5.0          Tazman32   \n",
       "843     5.0  Brian D. Carrico   \n",
       "844     4.0      Cici Ciconia   \n",
       "845     5.0                AJ   \n",
       "\n",
       "                                                review  verified vote  \\\n",
       "217  I made a photo album for a senior friend who w...      True    0   \n",
       "842  Great addition to our new Galaxy Ss which by t...      True    0   \n",
       "843                                           Perfect       True    0   \n",
       "844                                       As described      True    0   \n",
       "845            Great little card made my device better      True    0   \n",
       "\n",
       "           date  \n",
       "217  27.01.2018  \n",
       "842  01.04.2018  \n",
       "843  30.03.2018  \n",
       "844  30.03.2018  \n",
       "845  27.03.2018  "
      ]
     },
     "execution_count": 16,
     "metadata": {},
     "output_type": "execute_result"
    }
   ],
   "source": [
    "corpus.head()"
   ]
  },
  {
   "cell_type": "code",
   "execution_count": 17,
   "metadata": {},
   "outputs": [
    {
     "data": {
      "text/plain": [
       "(377057, 6)"
      ]
     },
     "execution_count": 17,
     "metadata": {},
     "output_type": "execute_result"
    }
   ],
   "source": [
    "corpus.shape"
   ]
  },
  {
   "cell_type": "code",
   "execution_count": 18,
   "metadata": {},
   "outputs": [
    {
     "data": {
      "text/plain": [
       "5.0    253232\n",
       "4.0     52737\n",
       "1.0     28443\n",
       "3.0     25828\n",
       "2.0     16817\n",
       "Name: rating, dtype: int64"
      ]
     },
     "execution_count": 18,
     "metadata": {},
     "output_type": "execute_result"
    }
   ],
   "source": [
    "corpus.rating.value_counts()"
   ]
  },
  {
   "cell_type": "markdown",
   "metadata": {},
   "source": [
    "# downsampling\n",
    "\n",
    "Reduces corpus size by random downsampling."
   ]
  },
  {
   "cell_type": "code",
   "execution_count": 21,
   "metadata": {},
   "outputs": [],
   "source": [
    "s_corpus = random_downsampling(corpus, class_col=\"rating\", max_value = 15000)"
   ]
  },
  {
   "cell_type": "code",
   "execution_count": 25,
   "metadata": {},
   "outputs": [],
   "source": [
    "#s_corpus.to_csv(\"../corpora/small_amazon_reviews_electronic.csv\", index=False)"
   ]
  },
  {
   "cell_type": "code",
   "execution_count": 23,
   "metadata": {},
   "outputs": [
    {
     "data": {
      "text/plain": [
       "(75000, 6)"
      ]
     },
     "execution_count": 23,
     "metadata": {},
     "output_type": "execute_result"
    }
   ],
   "source": [
    "s_corpus.shape"
   ]
  },
  {
   "cell_type": "code",
   "execution_count": null,
   "metadata": {},
   "outputs": [],
   "source": []
  }
 ],
 "metadata": {
  "kernelspec": {
   "display_name": "Python 3",
   "language": "python",
   "name": "python3"
  },
  "language_info": {
   "codemirror_mode": {
    "name": "ipython",
    "version": 3
   },
   "file_extension": ".py",
   "mimetype": "text/x-python",
   "name": "python",
   "nbconvert_exporter": "python",
   "pygments_lexer": "ipython3",
   "version": "3.7.7"
  },
  "toc": {
   "base_numbering": 1,
   "nav_menu": {},
   "number_sections": true,
   "sideBar": true,
   "skip_h1_title": false,
   "title_cell": "Table of contents",
   "title_sidebar": "Contents",
   "toc_cell": true,
   "toc_position": {},
   "toc_section_display": true,
   "toc_window_display": true
  }
 },
 "nbformat": 4,
 "nbformat_minor": 4
}
