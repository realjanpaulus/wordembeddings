{
 "cells": [
  {
   "cell_type": "markdown",
   "metadata": {
    "toc": true
   },
   "source": [
    "<h1>Table of contents<span class=\"tocSkip\"></span></h1>\n",
    "<div class=\"toc\"><ul class=\"toc-item\"><li><span><a href=\"#load-data\" data-toc-modified-id=\"load-data-1\"><span class=\"toc-item-num\">1&nbsp;&nbsp;</span>load data</a></span></li><li><span><a href=\"#clean-corpus\" data-toc-modified-id=\"clean-corpus-2\"><span class=\"toc-item-num\">2&nbsp;&nbsp;</span>clean corpus</a></span><ul class=\"toc-item\"><li><span><a href=\"#dataframe-cleaning\" data-toc-modified-id=\"dataframe-cleaning-2.1\"><span class=\"toc-item-num\">2.1&nbsp;&nbsp;</span>dataframe cleaning</a></span></li><li><span><a href=\"#text-cleaning\" data-toc-modified-id=\"text-cleaning-2.2\"><span class=\"toc-item-num\">2.2&nbsp;&nbsp;</span>text cleaning</a></span></li></ul></li><li><span><a href=\"#downsampling\" data-toc-modified-id=\"downsampling-3\"><span class=\"toc-item-num\">3&nbsp;&nbsp;</span>downsampling</a></span></li><li><span><a href=\"#Add-length\" data-toc-modified-id=\"Add-length-4\"><span class=\"toc-item-num\">4&nbsp;&nbsp;</span>Add length</a></span></li><li><span><a href=\"#split-corpus\" data-toc-modified-id=\"split-corpus-5\"><span class=\"toc-item-num\">5&nbsp;&nbsp;</span>split corpus</a></span></li></ul></div>"
   ]
  },
  {
   "cell_type": "markdown",
   "metadata": {},
   "source": [
    "**Dataset**:<br>\n",
    "Amazon Reviews: https://nijianmo.github.io/amazon/index.html"
   ]
  },
  {
   "cell_type": "code",
   "execution_count": 1,
   "metadata": {},
   "outputs": [],
   "source": [
    "import os\n",
    "import json\n",
    "import gzip\n",
    "from nltk import word_tokenize\n",
    "import pandas as pd\n",
    "from urllib.request import urlopen\n",
    "\n",
    "from utils import clean_text, random_downsampling"
   ]
  },
  {
   "cell_type": "markdown",
   "metadata": {},
   "source": [
    "# load data"
   ]
  },
  {
   "cell_type": "code",
   "execution_count": null,
   "metadata": {},
   "outputs": [],
   "source": [
    "\"\"\" very time consuming\n",
    "\n",
    "data = []\n",
    "with gzip.open('../corpora/Electronics_5.json.gz') as f:\n",
    "    for l in f:\n",
    "        data.append(json.loads(l.strip()))\n",
    "\n",
    "df = pd.DataFrame.from_dict(data)\n",
    "\n",
    "big_corpus = df[[\"overall\", \"reviewerName\", \"reviewText\", \n",
    "                  \"summary\", \"verified\", \"vote\", \"reviewTime\"]]\n",
    "                  \n",
    "big_corpus.to_csv(\"../corpora/amazon_reviews_electronic.csv\", index=False)\n",
    "\"\"\"\n",
    "print(\"Done loading.\")"
   ]
  },
  {
   "cell_type": "markdown",
   "metadata": {},
   "source": [
    "# clean corpus"
   ]
  },
  {
   "cell_type": "code",
   "execution_count": null,
   "metadata": {},
   "outputs": [],
   "source": [
    "PATH = \"../corpora/amazon_reviews_electronic.csv\"\n",
    "MIN_YEAR = 2018\n",
    "COMBINE_SUMMARY = False"
   ]
  },
  {
   "cell_type": "code",
   "execution_count": null,
   "metadata": {},
   "outputs": [],
   "source": [
    "%%time\n",
    "corpus = pd.read_csv(PATH)"
   ]
  },
  {
   "cell_type": "code",
   "execution_count": null,
   "metadata": {},
   "outputs": [],
   "source": [
    "corpus.head()"
   ]
  },
  {
   "cell_type": "markdown",
   "metadata": {},
   "source": [
    "## dataframe cleaning"
   ]
  },
  {
   "cell_type": "code",
   "execution_count": null,
   "metadata": {},
   "outputs": [],
   "source": [
    "%%time\n",
    "corpus.vote = corpus.vote.fillna(0)\n",
    "corpus = corpus.fillna(\"\")\n",
    "\n",
    "\n",
    "# rename columns\n",
    "\n",
    "corpus = corpus.rename(columns={\"overall\": \"rating\", \n",
    "                                \"reviewerName\": \"name\",\n",
    "                                \"reviewText\": \"review\",\n",
    "                                \"reviewTime\": \"date\"})\n",
    "\n",
    "# no empty ratings, reviews & dates\n",
    "\n",
    "corpus = corpus[corpus.rating != \"\"]\n",
    "corpus = corpus[corpus.review != \"\"]\n",
    "corpus = corpus[corpus.date != \"\"]\n",
    "\n",
    "\n",
    "# change date\n",
    "\n",
    "def change_date(date):\n",
    "    day_month, year = str(date).split(\",\")\n",
    "    month, day = day_month.split(\" \")\n",
    "    \n",
    "    if len(day) <= 1:\n",
    "        day = \"0\" + str(day)\n",
    "        \n",
    "    \n",
    "    return f\"{day}.{month}.{str(year)[-4:]}\"\n",
    "\n",
    "# only reviews since a specific date\n",
    "\n",
    "def remove_dates(date, min_year):\n",
    "    year = int(str(date)[-4:])\n",
    "    if year < min_year:\n",
    "        return \"\"\n",
    "    else:\n",
    "        return date\n",
    "    \n",
    "corpus.date = corpus.date.apply(lambda x: remove_dates(x, MIN_YEAR))\n",
    "corpus = corpus[corpus.date != \"\"]\n",
    "\n",
    "corpus.date = corpus.date.apply(lambda x: change_date(x))\n",
    "\n",
    "\n",
    "# combine summary and review text\n",
    "\n",
    "if COMBINE_SUMMARY:\n",
    "    corpus['review'] = corpus[['summary', 'review']].apply(lambda x: \" \".join(str(y) for y in x if str(y) != 'nan'), axis = 1)\n",
    "del corpus[\"summary\"]"
   ]
  },
  {
   "cell_type": "code",
   "execution_count": null,
   "metadata": {},
   "outputs": [],
   "source": [
    "corpus.sample(10)"
   ]
  },
  {
   "cell_type": "markdown",
   "metadata": {},
   "source": [
    "## text cleaning"
   ]
  },
  {
   "cell_type": "code",
   "execution_count": null,
   "metadata": {},
   "outputs": [],
   "source": [
    "%%time\n",
    "corpus.review = corpus.review.apply(clean_text)\n",
    "corpus = corpus[corpus.review != \"\"]"
   ]
  },
  {
   "cell_type": "code",
   "execution_count": null,
   "metadata": {},
   "outputs": [],
   "source": [
    "corpus.head()"
   ]
  },
  {
   "cell_type": "code",
   "execution_count": null,
   "metadata": {},
   "outputs": [],
   "source": [
    "corpus.shape"
   ]
  },
  {
   "cell_type": "code",
   "execution_count": null,
   "metadata": {},
   "outputs": [],
   "source": [
    "corpus.rating.value_counts()"
   ]
  },
  {
   "cell_type": "markdown",
   "metadata": {},
   "source": [
    "# downsampling\n",
    "\n",
    "Reduces corpus size by random downsampling."
   ]
  },
  {
   "cell_type": "code",
   "execution_count": null,
   "metadata": {},
   "outputs": [],
   "source": [
    "s_corpus = random_downsampling(corpus, class_col=\"rating\", max_value = 15000)"
   ]
  },
  {
   "cell_type": "code",
   "execution_count": null,
   "metadata": {},
   "outputs": [],
   "source": [
    "#s_corpus.to_csv(\"../corpora/small_amazon_reviews_electronic.csv\", index=False)"
   ]
  },
  {
   "cell_type": "code",
   "execution_count": null,
   "metadata": {},
   "outputs": [],
   "source": [
    "s_corpus.shape"
   ]
  },
  {
   "cell_type": "markdown",
   "metadata": {},
   "source": [
    "# Add length"
   ]
  },
  {
   "cell_type": "code",
   "execution_count": 4,
   "metadata": {},
   "outputs": [],
   "source": [
    "def length(x):\n",
    "    return len(word_tokenize(x))\n",
    "\n",
    "corpus[\"length\"] = corpus.review.apply(length)"
   ]
  },
  {
   "cell_type": "code",
   "execution_count": 6,
   "metadata": {},
   "outputs": [],
   "source": [
    "#corpus.to_csv(\"../corpora/small_amazon_reviews_electronic.csv\", index=False)"
   ]
  },
  {
   "cell_type": "markdown",
   "metadata": {},
   "source": [
    "# split corpus"
   ]
  },
  {
   "cell_type": "code",
   "execution_count": 2,
   "metadata": {},
   "outputs": [],
   "source": [
    "import pandas as pd\n",
    "from utils import *"
   ]
  },
  {
   "cell_type": "code",
   "execution_count": 7,
   "metadata": {},
   "outputs": [],
   "source": [
    "corpus = pd.read_csv(\"../corpora/small_amazon_reviews_electronic.csv\")"
   ]
  },
  {
   "cell_type": "code",
   "execution_count": 8,
   "metadata": {},
   "outputs": [
    {
     "name": "stderr",
     "output_type": "stream",
     "text": [
      "/Users/jan/Desktop/informatik_programme/wordembeddings/app/utils.py:161: SettingWithCopyWarning: \n",
      "A value is trying to be set on a copy of a slice from a DataFrame.\n",
      "Try using .loc[row_indexer,col_indexer] = value instead\n",
      "\n",
      "See the caveats in the documentation: https://pandas.pydata.org/pandas-docs/stable/user_guide/indexing.html#returning-a-view-versus-a-copy\n",
      "  df[text_col] = df.apply(lambda row: word_tokenize(row[text_col]), axis=1)\n"
     ]
    }
   ],
   "source": [
    "split_corpus(corpus, split=0.8)"
   ]
  },
  {
   "cell_type": "code",
   "execution_count": null,
   "metadata": {},
   "outputs": [],
   "source": []
  }
 ],
 "metadata": {
  "kernelspec": {
   "display_name": "Python 3",
   "language": "python",
   "name": "python3"
  },
  "language_info": {
   "codemirror_mode": {
    "name": "ipython",
    "version": 3
   },
   "file_extension": ".py",
   "mimetype": "text/x-python",
   "name": "python",
   "nbconvert_exporter": "python",
   "pygments_lexer": "ipython3",
   "version": "3.7.7"
  },
  "toc": {
   "base_numbering": 1,
   "nav_menu": {},
   "number_sections": true,
   "sideBar": true,
   "skip_h1_title": false,
   "title_cell": "Table of contents",
   "title_sidebar": "Contents",
   "toc_cell": true,
   "toc_position": {
    "height": "calc(100% - 180px)",
    "left": "10px",
    "top": "150px",
    "width": "230.5500030517578px"
   },
   "toc_section_display": true,
   "toc_window_display": true
  }
 },
 "nbformat": 4,
 "nbformat_minor": 4
}
