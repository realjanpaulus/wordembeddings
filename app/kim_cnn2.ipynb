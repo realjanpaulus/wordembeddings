{
 "cells": [
  {
   "cell_type": "markdown",
   "metadata": {},
   "source": [
    "# KimCNN 2"
   ]
  },
  {
   "cell_type": "code",
   "execution_count": 1,
   "metadata": {},
   "outputs": [],
   "source": [
    "import logging\n",
    "from nltk import word_tokenize\n",
    "from nltk.corpus import stopwords\n",
    "import numpy as np\n",
    "import pandas as pd\n",
    "import time\n",
    "\n",
    "from sklearn.feature_extraction.text import TfidfVectorizer\n",
    "from sklearn.preprocessing import LabelEncoder, OneHotEncoder\n",
    "from sklearn.model_selection import train_test_split\n",
    "\n",
    "import torch\n",
    "import torch.nn as nn\n",
    "import torch.nn.functional as F\n",
    "import torch.optim as optim\n",
    "from torch.utils import data\n",
    "from torchtext import data, datasets\n",
    "\n",
    "from utils import *"
   ]
  },
  {
   "cell_type": "code",
   "execution_count": 2,
   "metadata": {},
   "outputs": [],
   "source": [
    "MAX_VOCAB_SIZE = 25000\n",
    "BATCH_SIZE = 8\n",
    "EPOCHS = 5\n",
    "\n",
    "EMBEDDING_TYPE = \"glove.6B.100d\"\n",
    "#TODO: ergänzen\n",
    "embeddings_dict = {\"glove.6B.100d\": \"glove\"}\n",
    "EMBEDDING_NAME = \"unknown\"\n",
    "if EMBEDDING_TYPE in embeddings_dict.keys():\n",
    "    EMBEDDING_NAME = embeddings_dict[EMBEDDING_TYPE]\n",
    "\n",
    "\n",
    "corpus = pd.read_csv(\"../corpora/small_amazon_reviews_electronic.csv\")"
   ]
  },
  {
   "cell_type": "code",
   "execution_count": 3,
   "metadata": {},
   "outputs": [],
   "source": [
    "REVIEW = data.Field(tokenize = \"toktok\",\n",
    "                    lower = True)\n",
    "\n",
    "RATING = data.LabelField()\n",
    "assigned_fields = {\"review\": ('text', REVIEW), \n",
    "                   \"rating\": ('label', RATING)}\n",
    "\n",
    "train_data, val_data, test_data = data.TabularDataset.splits(path=\"../corpora/splits/\", \n",
    "                                                              train='train.json',\n",
    "                                                              validation='val.json', \n",
    "                                                              test='test.json', \n",
    "                                                              format='json',\n",
    "                                                              fields=assigned_fields,\n",
    "                                                              skip_header = True)\n",
    "\n",
    "\n",
    "REVIEW.build_vocab(train_data, \n",
    "                   vectors = EMBEDDING_TYPE, \n",
    "                   unk_init = torch.Tensor.normal_,\n",
    "                   max_size = MAX_VOCAB_SIZE)\n",
    "RATING.build_vocab(train_data)\n",
    "\n",
    "\n",
    "device = torch.device('cuda' if torch.cuda.is_available() else 'cpu')\n",
    "\n",
    "if torch.cuda.is_available():\n",
    "    logging.info(\"GPU will be used.\")\n",
    "\n",
    "\n",
    "train_iterator, val_iterator, test_iterator = data.BucketIterator.splits((train_data, val_data, test_data), \n",
    "                                                                         batch_size = BATCH_SIZE,\n",
    "                                                                         device = device,\n",
    "                                                                         sort_key = lambda x: len(x.text),\n",
    "                                                                         sort = False,\n",
    "                                                                         sort_within_batch=False)\n"
   ]
  },
  {
   "cell_type": "code",
   "execution_count": null,
   "metadata": {},
   "outputs": [],
   "source": []
  }
 ],
 "metadata": {
  "kernelspec": {
   "display_name": "Python 3",
   "language": "python",
   "name": "python3"
  },
  "language_info": {
   "codemirror_mode": {
    "name": "ipython",
    "version": 3
   },
   "file_extension": ".py",
   "mimetype": "text/x-python",
   "name": "python",
   "nbconvert_exporter": "python",
   "pygments_lexer": "ipython3",
   "version": "3.7.7"
  }
 },
 "nbformat": 4,
 "nbformat_minor": 4
}
