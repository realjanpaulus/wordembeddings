{
 "cells": [
  {
   "cell_type": "markdown",
   "metadata": {
    "toc": true
   },
   "source": [
    "<h1>Table of contents<span class=\"tocSkip\"></span></h1>\n",
    "<div class=\"toc\"><ul class=\"toc-item\"><li><span><a href=\"#load-data\" data-toc-modified-id=\"load-data-1\"><span class=\"toc-item-num\">1&nbsp;&nbsp;</span>load data</a></span></li><li><span><a href=\"#clean-corpus\" data-toc-modified-id=\"clean-corpus-2\"><span class=\"toc-item-num\">2&nbsp;&nbsp;</span>clean corpus</a></span><ul class=\"toc-item\"><li><span><a href=\"#dataframe-cleaning\" data-toc-modified-id=\"dataframe-cleaning-2.1\"><span class=\"toc-item-num\">2.1&nbsp;&nbsp;</span>dataframe cleaning</a></span></li><li><span><a href=\"#text-cleaning\" data-toc-modified-id=\"text-cleaning-2.2\"><span class=\"toc-item-num\">2.2&nbsp;&nbsp;</span>text cleaning</a></span></li></ul></li><li><span><a href=\"#downsampling\" data-toc-modified-id=\"downsampling-3\"><span class=\"toc-item-num\">3&nbsp;&nbsp;</span>downsampling</a></span></li><li><span><a href=\"#Add-length\" data-toc-modified-id=\"Add-length-4\"><span class=\"toc-item-num\">4&nbsp;&nbsp;</span>Add length</a></span></li><li><span><a href=\"#split-corpus\" data-toc-modified-id=\"split-corpus-5\"><span class=\"toc-item-num\">5&nbsp;&nbsp;</span>split corpus</a></span></li><li><span><a href=\"#split-small-corpus-for-testing-purpose\" data-toc-modified-id=\"split-small-corpus-for-testing-purpose-6\"><span class=\"toc-item-num\">6&nbsp;&nbsp;</span>split small corpus for testing purpose</a></span></li><li><span><a href=\"#different-classes-(only-3)\" data-toc-modified-id=\"different-classes-(only-3)-7\"><span class=\"toc-item-num\">7&nbsp;&nbsp;</span>different classes (only 3)</a></span></li><li><span><a href=\"#different-classes-(only-3)-with-downsampling-and-rename-classes\" data-toc-modified-id=\"different-classes-(only-3)-with-downsampling-and-rename-classes-8\"><span class=\"toc-item-num\">8&nbsp;&nbsp;</span>different classes (only 3) with downsampling and rename classes</a></span></li><li><span><a href=\"#combine-results\" data-toc-modified-id=\"combine-results-9\"><span class=\"toc-item-num\">9&nbsp;&nbsp;</span>combine results</a></span></li></ul></div>"
   ]
  },
  {
   "cell_type": "markdown",
   "metadata": {},
   "source": [
    "**Dataset**:<br>\n",
    "Amazon Reviews: https://nijianmo.github.io/amazon/index.html"
   ]
  },
  {
   "cell_type": "code",
   "execution_count": 1,
   "metadata": {},
   "outputs": [],
   "source": [
    "import os\n",
    "import json\n",
    "import gzip\n",
    "from nltk import word_tokenize\n",
    "import pandas as pd\n",
    "from urllib.request import urlopen\n",
    "\n",
    "from utils import clean_text, random_downsampling"
   ]
  },
  {
   "cell_type": "markdown",
   "metadata": {},
   "source": [
    "# load data"
   ]
  },
  {
   "cell_type": "code",
   "execution_count": null,
   "metadata": {},
   "outputs": [],
   "source": [
    "\"\"\" very time consuming\n",
    "\n",
    "data = []\n",
    "with gzip.open('../corpora/Electronics_5.json.gz') as f:\n",
    "    for l in f:\n",
    "        data.append(json.loads(l.strip()))\n",
    "\n",
    "df = pd.DataFrame.from_dict(data)\n",
    "\n",
    "big_corpus = df[[\"overall\", \"reviewerName\", \"reviewText\", \n",
    "                  \"summary\", \"verified\", \"vote\", \"reviewTime\"]]\n",
    "                  \n",
    "big_corpus.to_csv(\"../corpora/amazon_reviews_electronic.csv\", index=False)\n",
    "\"\"\"\n",
    "print(\"Done loading.\")"
   ]
  },
  {
   "cell_type": "markdown",
   "metadata": {},
   "source": [
    "# clean corpus"
   ]
  },
  {
   "cell_type": "code",
   "execution_count": 3,
   "metadata": {},
   "outputs": [],
   "source": [
    "PATH = \"../corpora/old/amazon_reviews_electronic_raw.csv\"\n",
    "MIN_YEAR = 2018\n",
    "COMBINE_SUMMARY = False"
   ]
  },
  {
   "cell_type": "code",
   "execution_count": 4,
   "metadata": {},
   "outputs": [
    {
     "name": "stdout",
     "output_type": "stream",
     "text": [
      "CPU times: user 1min 4s, sys: 18.6 s, total: 1min 23s\n",
      "Wall time: 1min 45s\n"
     ]
    }
   ],
   "source": [
    "%%time\n",
    "corpus = pd.read_csv(PATH)"
   ]
  },
  {
   "cell_type": "code",
   "execution_count": 5,
   "metadata": {},
   "outputs": [
    {
     "data": {
      "text/html": [
       "<div>\n",
       "<style scoped>\n",
       "    .dataframe tbody tr th:only-of-type {\n",
       "        vertical-align: middle;\n",
       "    }\n",
       "\n",
       "    .dataframe tbody tr th {\n",
       "        vertical-align: top;\n",
       "    }\n",
       "\n",
       "    .dataframe thead th {\n",
       "        text-align: right;\n",
       "    }\n",
       "</style>\n",
       "<table border=\"1\" class=\"dataframe\">\n",
       "  <thead>\n",
       "    <tr style=\"text-align: right;\">\n",
       "      <th></th>\n",
       "      <th>overall</th>\n",
       "      <th>reviewerName</th>\n",
       "      <th>reviewText</th>\n",
       "      <th>summary</th>\n",
       "      <th>verified</th>\n",
       "      <th>vote</th>\n",
       "      <th>reviewTime</th>\n",
       "    </tr>\n",
       "  </thead>\n",
       "  <tbody>\n",
       "    <tr>\n",
       "      <th>0</th>\n",
       "      <td>5.0</td>\n",
       "      <td>D. C. Carrad</td>\n",
       "      <td>This is the best novel I have read in 2 or 3 y...</td>\n",
       "      <td>A star is born</td>\n",
       "      <td>True</td>\n",
       "      <td>67</td>\n",
       "      <td>09 18, 1999</td>\n",
       "    </tr>\n",
       "    <tr>\n",
       "      <th>1</th>\n",
       "      <td>3.0</td>\n",
       "      <td>Evy</td>\n",
       "      <td>Pages and pages of introspection, in the style...</td>\n",
       "      <td>A stream of consciousness novel</td>\n",
       "      <td>True</td>\n",
       "      <td>5</td>\n",
       "      <td>10 23, 2013</td>\n",
       "    </tr>\n",
       "    <tr>\n",
       "      <th>2</th>\n",
       "      <td>5.0</td>\n",
       "      <td>Kcorn</td>\n",
       "      <td>This is the kind of novel to read when you hav...</td>\n",
       "      <td>I'm a huge fan of the author and this one did ...</td>\n",
       "      <td>False</td>\n",
       "      <td>4</td>\n",
       "      <td>09 2, 2008</td>\n",
       "    </tr>\n",
       "    <tr>\n",
       "      <th>3</th>\n",
       "      <td>5.0</td>\n",
       "      <td>Caf Girl Writes</td>\n",
       "      <td>What gorgeous language! What an incredible wri...</td>\n",
       "      <td>The most beautiful book I have ever read!</td>\n",
       "      <td>False</td>\n",
       "      <td>13</td>\n",
       "      <td>09 4, 2000</td>\n",
       "    </tr>\n",
       "    <tr>\n",
       "      <th>4</th>\n",
       "      <td>3.0</td>\n",
       "      <td>W. Shane Schmidt</td>\n",
       "      <td>I was taken in by reviews that compared this b...</td>\n",
       "      <td>A dissenting view--In part.</td>\n",
       "      <td>True</td>\n",
       "      <td>8</td>\n",
       "      <td>02 4, 2000</td>\n",
       "    </tr>\n",
       "  </tbody>\n",
       "</table>\n",
       "</div>"
      ],
      "text/plain": [
       "   overall      reviewerName  \\\n",
       "0      5.0      D. C. Carrad   \n",
       "1      3.0               Evy   \n",
       "2      5.0             Kcorn   \n",
       "3      5.0   Caf Girl Writes   \n",
       "4      3.0  W. Shane Schmidt   \n",
       "\n",
       "                                          reviewText  \\\n",
       "0  This is the best novel I have read in 2 or 3 y...   \n",
       "1  Pages and pages of introspection, in the style...   \n",
       "2  This is the kind of novel to read when you hav...   \n",
       "3  What gorgeous language! What an incredible wri...   \n",
       "4  I was taken in by reviews that compared this b...   \n",
       "\n",
       "                                             summary  verified vote  \\\n",
       "0                                     A star is born      True   67   \n",
       "1                    A stream of consciousness novel      True    5   \n",
       "2  I'm a huge fan of the author and this one did ...     False    4   \n",
       "3          The most beautiful book I have ever read!     False   13   \n",
       "4                        A dissenting view--In part.      True    8   \n",
       "\n",
       "    reviewTime  \n",
       "0  09 18, 1999  \n",
       "1  10 23, 2013  \n",
       "2   09 2, 2008  \n",
       "3   09 4, 2000  \n",
       "4   02 4, 2000  "
      ]
     },
     "execution_count": 5,
     "metadata": {},
     "output_type": "execute_result"
    }
   ],
   "source": [
    "corpus.head()"
   ]
  },
  {
   "cell_type": "markdown",
   "metadata": {},
   "source": [
    "## dataframe cleaning"
   ]
  },
  {
   "cell_type": "code",
   "execution_count": 6,
   "metadata": {},
   "outputs": [
    {
     "name": "stderr",
     "output_type": "stream",
     "text": [
      "/Users/jan/anaconda3/lib/python3.7/site-packages/pandas/core/ops/array_ops.py:253: FutureWarning: elementwise comparison failed; returning scalar instead, but in the future will perform elementwise comparison\n",
      "  res_values = method(rvalues)\n"
     ]
    },
    {
     "name": "stdout",
     "output_type": "stream",
     "text": [
      "CPU times: user 31.6 s, sys: 20.2 s, total: 51.8 s\n",
      "Wall time: 1min 14s\n"
     ]
    }
   ],
   "source": [
    "%%time\n",
    "corpus.vote = corpus.vote.fillna(0)\n",
    "corpus = corpus.fillna(\"\")\n",
    "\n",
    "\n",
    "# rename columns\n",
    "\n",
    "corpus = corpus.rename(columns={\"overall\": \"rating\", \n",
    "                                \"reviewerName\": \"name\",\n",
    "                                \"reviewText\": \"review\",\n",
    "                                \"reviewTime\": \"date\"})\n",
    "\n",
    "# no empty ratings, reviews & dates\n",
    "\n",
    "corpus = corpus[corpus.rating != \"\"]\n",
    "corpus = corpus[corpus.review != \"\"]\n",
    "corpus = corpus[corpus.date != \"\"]\n",
    "\n",
    "\n",
    "# change date\n",
    "\n",
    "def change_date(date):\n",
    "    day_month, year = str(date).split(\",\")\n",
    "    month, day = day_month.split(\" \")\n",
    "    \n",
    "    if len(day) <= 1:\n",
    "        day = \"0\" + str(day)\n",
    "        \n",
    "    \n",
    "    return f\"{day}.{month}.{str(year)[-4:]}\"\n",
    "\n",
    "# only reviews since a specific date\n",
    "\n",
    "def remove_dates(date, min_year):\n",
    "    year = int(str(date)[-4:])\n",
    "    if year < min_year:\n",
    "        return \"\"\n",
    "    else:\n",
    "        return date\n",
    "    \n",
    "corpus.date = corpus.date.apply(lambda x: remove_dates(x, MIN_YEAR))\n",
    "corpus = corpus[corpus.date != \"\"]\n",
    "\n",
    "corpus.date = corpus.date.apply(lambda x: change_date(x))\n",
    "\n",
    "\n",
    "# combine summary and review text\n",
    "\n",
    "if COMBINE_SUMMARY:\n",
    "    corpus['review'] = corpus[['summary', 'review']].apply(lambda x: \" \".join(str(y) for y in x if str(y) != 'nan'), axis = 1)\n",
    "del corpus[\"summary\"]"
   ]
  },
  {
   "cell_type": "code",
   "execution_count": 7,
   "metadata": {
    "collapsed": true
   },
   "outputs": [
    {
     "data": {
      "text/html": [
       "<div>\n",
       "<style scoped>\n",
       "    .dataframe tbody tr th:only-of-type {\n",
       "        vertical-align: middle;\n",
       "    }\n",
       "\n",
       "    .dataframe tbody tr th {\n",
       "        vertical-align: top;\n",
       "    }\n",
       "\n",
       "    .dataframe thead th {\n",
       "        text-align: right;\n",
       "    }\n",
       "</style>\n",
       "<table border=\"1\" class=\"dataframe\">\n",
       "  <thead>\n",
       "    <tr style=\"text-align: right;\">\n",
       "      <th></th>\n",
       "      <th>rating</th>\n",
       "      <th>name</th>\n",
       "      <th>review</th>\n",
       "      <th>verified</th>\n",
       "      <th>vote</th>\n",
       "      <th>date</th>\n",
       "    </tr>\n",
       "  </thead>\n",
       "  <tbody>\n",
       "    <tr>\n",
       "      <th>6730754</th>\n",
       "      <td>5.0</td>\n",
       "      <td>J.W.</td>\n",
       "      <td>You don't have to have the safest house on the...</td>\n",
       "      <td>True</td>\n",
       "      <td>0</td>\n",
       "      <td>02.07.2018</td>\n",
       "    </tr>\n",
       "    <tr>\n",
       "      <th>3986072</th>\n",
       "      <td>1.0</td>\n",
       "      <td>Jay A. Walker</td>\n",
       "      <td>I was sent the wrong case I wanted iPad one no...</td>\n",
       "      <td>True</td>\n",
       "      <td>0</td>\n",
       "      <td>16.03.2018</td>\n",
       "    </tr>\n",
       "    <tr>\n",
       "      <th>6091325</th>\n",
       "      <td>5.0</td>\n",
       "      <td>Customer DBG</td>\n",
       "      <td>works great and fast speed.</td>\n",
       "      <td>True</td>\n",
       "      <td>0</td>\n",
       "      <td>14.07.2018</td>\n",
       "    </tr>\n",
       "    <tr>\n",
       "      <th>5072103</th>\n",
       "      <td>2.0</td>\n",
       "      <td>Jake</td>\n",
       "      <td>Looks fake, blinking light is obvious.  Everyo...</td>\n",
       "      <td>True</td>\n",
       "      <td>0</td>\n",
       "      <td>11.01.2018</td>\n",
       "    </tr>\n",
       "    <tr>\n",
       "      <th>6628316</th>\n",
       "      <td>2.0</td>\n",
       "      <td>Kindle Customer</td>\n",
       "      <td>I loved this receiver until it died the day be...</td>\n",
       "      <td>True</td>\n",
       "      <td>0</td>\n",
       "      <td>12.02.2018</td>\n",
       "    </tr>\n",
       "    <tr>\n",
       "      <th>2849453</th>\n",
       "      <td>5.0</td>\n",
       "      <td>Roger T</td>\n",
       "      <td>Very happy with it</td>\n",
       "      <td>True</td>\n",
       "      <td>0</td>\n",
       "      <td>21.04.2018</td>\n",
       "    </tr>\n",
       "    <tr>\n",
       "      <th>3372689</th>\n",
       "      <td>5.0</td>\n",
       "      <td>Hunter Eubanks</td>\n",
       "      <td>Excellent product. Pleased with purchase</td>\n",
       "      <td>True</td>\n",
       "      <td>0</td>\n",
       "      <td>09.04.2018</td>\n",
       "    </tr>\n",
       "    <tr>\n",
       "      <th>3300814</th>\n",
       "      <td>3.0</td>\n",
       "      <td>Joel Jacobs</td>\n",
       "      <td>The mounts have trouble maintaining an angle, ...</td>\n",
       "      <td>True</td>\n",
       "      <td>0</td>\n",
       "      <td>09.03.2018</td>\n",
       "    </tr>\n",
       "    <tr>\n",
       "      <th>2679870</th>\n",
       "      <td>5.0</td>\n",
       "      <td>John W.</td>\n",
       "      <td>what not to like?</td>\n",
       "      <td>True</td>\n",
       "      <td>0</td>\n",
       "      <td>05.02.2018</td>\n",
       "    </tr>\n",
       "    <tr>\n",
       "      <th>5227434</th>\n",
       "      <td>2.0</td>\n",
       "      <td>QueenBee Debbie of SheMakesTheRules</td>\n",
       "      <td>These were super comfortable, but simply didn'...</td>\n",
       "      <td>True</td>\n",
       "      <td>0</td>\n",
       "      <td>16.01.2018</td>\n",
       "    </tr>\n",
       "  </tbody>\n",
       "</table>\n",
       "</div>"
      ],
      "text/plain": [
       "         rating                                 name  \\\n",
       "6730754     5.0                                 J.W.   \n",
       "3986072     1.0                        Jay A. Walker   \n",
       "6091325     5.0                         Customer DBG   \n",
       "5072103     2.0                                 Jake   \n",
       "6628316     2.0                      Kindle Customer   \n",
       "2849453     5.0                              Roger T   \n",
       "3372689     5.0                       Hunter Eubanks   \n",
       "3300814     3.0                          Joel Jacobs   \n",
       "2679870     5.0                              John W.   \n",
       "5227434     2.0  QueenBee Debbie of SheMakesTheRules   \n",
       "\n",
       "                                                    review  verified vote  \\\n",
       "6730754  You don't have to have the safest house on the...      True    0   \n",
       "3986072  I was sent the wrong case I wanted iPad one no...      True    0   \n",
       "6091325                        works great and fast speed.      True    0   \n",
       "5072103  Looks fake, blinking light is obvious.  Everyo...      True    0   \n",
       "6628316  I loved this receiver until it died the day be...      True    0   \n",
       "2849453                                 Very happy with it      True    0   \n",
       "3372689           Excellent product. Pleased with purchase      True    0   \n",
       "3300814  The mounts have trouble maintaining an angle, ...      True    0   \n",
       "2679870                                  what not to like?      True    0   \n",
       "5227434  These were super comfortable, but simply didn'...      True    0   \n",
       "\n",
       "               date  \n",
       "6730754  02.07.2018  \n",
       "3986072  16.03.2018  \n",
       "6091325  14.07.2018  \n",
       "5072103  11.01.2018  \n",
       "6628316  12.02.2018  \n",
       "2849453  21.04.2018  \n",
       "3372689  09.04.2018  \n",
       "3300814  09.03.2018  \n",
       "2679870  05.02.2018  \n",
       "5227434  16.01.2018  "
      ]
     },
     "execution_count": 7,
     "metadata": {},
     "output_type": "execute_result"
    }
   ],
   "source": [
    "corpus.sample(10)"
   ]
  },
  {
   "cell_type": "markdown",
   "metadata": {},
   "source": [
    "## text cleaning"
   ]
  },
  {
   "cell_type": "code",
   "execution_count": 8,
   "metadata": {},
   "outputs": [
    {
     "name": "stderr",
     "output_type": "stream",
     "text": [
      "/Users/jan/anaconda3/lib/python3.7/site-packages/bs4/__init__.py:312: UserWarning: \"old\" looks like a filename, not markup. You should probably open this file and pass the filehandle into Beautiful Soup.\n",
      "  ' Beautiful Soup.' % self._decode_markup(markup)\n"
     ]
    },
    {
     "name": "stdout",
     "output_type": "stream",
     "text": [
      "CPU times: user 1min 18s, sys: 7.53 s, total: 1min 26s\n",
      "Wall time: 1min 35s\n"
     ]
    }
   ],
   "source": [
    "%%time\n",
    "corpus.review = corpus.review.apply(clean_text)\n",
    "corpus = corpus[corpus.review != \"\"]"
   ]
  },
  {
   "cell_type": "code",
   "execution_count": 9,
   "metadata": {},
   "outputs": [
    {
     "data": {
      "text/html": [
       "<div>\n",
       "<style scoped>\n",
       "    .dataframe tbody tr th:only-of-type {\n",
       "        vertical-align: middle;\n",
       "    }\n",
       "\n",
       "    .dataframe tbody tr th {\n",
       "        vertical-align: top;\n",
       "    }\n",
       "\n",
       "    .dataframe thead th {\n",
       "        text-align: right;\n",
       "    }\n",
       "</style>\n",
       "<table border=\"1\" class=\"dataframe\">\n",
       "  <thead>\n",
       "    <tr style=\"text-align: right;\">\n",
       "      <th></th>\n",
       "      <th>rating</th>\n",
       "      <th>name</th>\n",
       "      <th>review</th>\n",
       "      <th>verified</th>\n",
       "      <th>vote</th>\n",
       "      <th>date</th>\n",
       "    </tr>\n",
       "  </thead>\n",
       "  <tbody>\n",
       "    <tr>\n",
       "      <th>217</th>\n",
       "      <td>5.0</td>\n",
       "      <td>Problematic1963</td>\n",
       "      <td>I made a photo album for a senior friend who w...</td>\n",
       "      <td>True</td>\n",
       "      <td>0</td>\n",
       "      <td>27.01.2018</td>\n",
       "    </tr>\n",
       "    <tr>\n",
       "      <th>842</th>\n",
       "      <td>5.0</td>\n",
       "      <td>Tazman32</td>\n",
       "      <td>Great addition to our new Galaxy Ss which by t...</td>\n",
       "      <td>True</td>\n",
       "      <td>0</td>\n",
       "      <td>01.04.2018</td>\n",
       "    </tr>\n",
       "    <tr>\n",
       "      <th>843</th>\n",
       "      <td>5.0</td>\n",
       "      <td>Brian D. Carrico</td>\n",
       "      <td>Perfect</td>\n",
       "      <td>True</td>\n",
       "      <td>0</td>\n",
       "      <td>30.03.2018</td>\n",
       "    </tr>\n",
       "    <tr>\n",
       "      <th>844</th>\n",
       "      <td>4.0</td>\n",
       "      <td>Cici Ciconia</td>\n",
       "      <td>As described</td>\n",
       "      <td>True</td>\n",
       "      <td>0</td>\n",
       "      <td>30.03.2018</td>\n",
       "    </tr>\n",
       "    <tr>\n",
       "      <th>845</th>\n",
       "      <td>5.0</td>\n",
       "      <td>AJ</td>\n",
       "      <td>Great little card made my device better</td>\n",
       "      <td>True</td>\n",
       "      <td>0</td>\n",
       "      <td>27.03.2018</td>\n",
       "    </tr>\n",
       "  </tbody>\n",
       "</table>\n",
       "</div>"
      ],
      "text/plain": [
       "     rating              name  \\\n",
       "217     5.0   Problematic1963   \n",
       "842     5.0          Tazman32   \n",
       "843     5.0  Brian D. Carrico   \n",
       "844     4.0      Cici Ciconia   \n",
       "845     5.0                AJ   \n",
       "\n",
       "                                                review  verified vote  \\\n",
       "217  I made a photo album for a senior friend who w...      True    0   \n",
       "842  Great addition to our new Galaxy Ss which by t...      True    0   \n",
       "843                                           Perfect       True    0   \n",
       "844                                       As described      True    0   \n",
       "845            Great little card made my device better      True    0   \n",
       "\n",
       "           date  \n",
       "217  27.01.2018  \n",
       "842  01.04.2018  \n",
       "843  30.03.2018  \n",
       "844  30.03.2018  \n",
       "845  27.03.2018  "
      ]
     },
     "execution_count": 9,
     "metadata": {},
     "output_type": "execute_result"
    }
   ],
   "source": [
    "corpus.head()"
   ]
  },
  {
   "cell_type": "code",
   "execution_count": 10,
   "metadata": {},
   "outputs": [
    {
     "data": {
      "text/plain": [
       "(377057, 6)"
      ]
     },
     "execution_count": 10,
     "metadata": {},
     "output_type": "execute_result"
    }
   ],
   "source": [
    "corpus.shape"
   ]
  },
  {
   "cell_type": "code",
   "execution_count": 11,
   "metadata": {},
   "outputs": [
    {
     "data": {
      "text/plain": [
       "5.0    253232\n",
       "4.0     52737\n",
       "1.0     28443\n",
       "3.0     25828\n",
       "2.0     16817\n",
       "Name: rating, dtype: int64"
      ]
     },
     "execution_count": 11,
     "metadata": {},
     "output_type": "execute_result"
    }
   ],
   "source": [
    "corpus.rating.value_counts()"
   ]
  },
  {
   "cell_type": "code",
   "execution_count": 12,
   "metadata": {},
   "outputs": [],
   "source": [
    "corpus.to_csv(\"../corpora/old/amazon_reviews_electronic.csv\")"
   ]
  },
  {
   "cell_type": "markdown",
   "metadata": {},
   "source": [
    "# downsampling\n",
    "\n",
    "Reduces corpus size by random downsampling."
   ]
  },
  {
   "cell_type": "code",
   "execution_count": null,
   "metadata": {},
   "outputs": [],
   "source": [
    "s_corpus = random_downsampling(corpus, class_col=\"rating\", max_value = 15000)"
   ]
  },
  {
   "cell_type": "code",
   "execution_count": null,
   "metadata": {},
   "outputs": [],
   "source": [
    "#s_corpus.to_csv(\"../corpora/small_amazon_reviews_electronic.csv\", index=False)"
   ]
  },
  {
   "cell_type": "code",
   "execution_count": null,
   "metadata": {},
   "outputs": [],
   "source": [
    "s_corpus.shape"
   ]
  },
  {
   "cell_type": "markdown",
   "metadata": {},
   "source": [
    "# Add length"
   ]
  },
  {
   "cell_type": "code",
   "execution_count": 4,
   "metadata": {},
   "outputs": [],
   "source": [
    "def length(x):\n",
    "    return len(word_tokenize(x))\n",
    "\n",
    "corpus[\"length\"] = corpus.review.apply(length)"
   ]
  },
  {
   "cell_type": "code",
   "execution_count": 6,
   "metadata": {},
   "outputs": [],
   "source": [
    "#corpus.to_csv(\"../corpora/small_amazon_reviews_electronic.csv\", index=False)"
   ]
  },
  {
   "cell_type": "markdown",
   "metadata": {},
   "source": [
    "# split corpus"
   ]
  },
  {
   "cell_type": "code",
   "execution_count": 5,
   "metadata": {},
   "outputs": [],
   "source": [
    "import pandas as pd\n",
    "from utils import *"
   ]
  },
  {
   "cell_type": "code",
   "execution_count": 2,
   "metadata": {},
   "outputs": [],
   "source": [
    "corpus = pd.read_csv(\"../corpora/small_amazon_reviews_electronic.csv\")"
   ]
  },
  {
   "cell_type": "code",
   "execution_count": 4,
   "metadata": {
    "collapsed": true
   },
   "outputs": [
    {
     "name": "stderr",
     "output_type": "stream",
     "text": [
      "/Users/jan/Desktop/informatik_programme/wordembeddings/app/utils.py:161: SettingWithCopyWarning: \n",
      "A value is trying to be set on a copy of a slice from a DataFrame.\n",
      "Try using .loc[row_indexer,col_indexer] = value instead\n",
      "\n",
      "See the caveats in the documentation: https://pandas.pydata.org/pandas-docs/stable/user_guide/indexing.html#returning-a-view-versus-a-copy\n",
      "  df[text_col] = df.apply(lambda row: word_tokenize(row[text_col]), axis=1)\n"
     ]
    }
   ],
   "source": [
    "split_corpus(corpus, split=0.8)"
   ]
  },
  {
   "cell_type": "markdown",
   "metadata": {},
   "source": [
    "# split small corpus for testing purpose"
   ]
  },
  {
   "cell_type": "code",
   "execution_count": 6,
   "metadata": {
    "collapsed": true
   },
   "outputs": [
    {
     "name": "stderr",
     "output_type": "stream",
     "text": [
      "/Users/jan/Desktop/informatik_programme/wordembeddings/app/utils.py:161: SettingWithCopyWarning: \n",
      "A value is trying to be set on a copy of a slice from a DataFrame.\n",
      "Try using .loc[row_indexer,col_indexer] = value instead\n",
      "\n",
      "See the caveats in the documentation: https://pandas.pydata.org/pandas-docs/stable/user_guide/indexing.html#returning-a-view-versus-a-copy\n",
      "  df[text_col] = df.apply(lambda row: word_tokenize(row[text_col]), axis=1)\n"
     ]
    }
   ],
   "source": [
    "import pandas as pd\n",
    "from utils import *\n",
    "\n",
    "corpus = pd.read_csv(\"../corpora/small_amazon_reviews_electronic.csv\")\n",
    "corpus = corpus.sample(300)\n",
    "split_corpus(corpus, split=0.8, output_path = \"../corpora/splitssmall/\")"
   ]
  },
  {
   "cell_type": "markdown",
   "metadata": {},
   "source": [
    "# different classes (only 3)"
   ]
  },
  {
   "cell_type": "code",
   "execution_count": 4,
   "metadata": {
    "collapsed": true
   },
   "outputs": [
    {
     "name": "stderr",
     "output_type": "stream",
     "text": [
      "/Users/jan/projects/wordembeddings/app/utils.py:161: SettingWithCopyWarning: \n",
      "A value is trying to be set on a copy of a slice from a DataFrame.\n",
      "Try using .loc[row_indexer,col_indexer] = value instead\n",
      "\n",
      "See the caveats in the documentation: https://pandas.pydata.org/pandas-docs/stable/user_guide/indexing.html#returning-a-view-versus-a-copy\n",
      "  df[text_col] = df.apply(lambda row: word_tokenize(row[text_col]), axis=1)\n"
     ]
    }
   ],
   "source": [
    "import pandas as pd\n",
    "from utils import *\n",
    "\n",
    "corpus = pd.read_csv(\"../corpora/small_amazon_reviews_electronic.csv\")\n",
    "corpus[\"rating\"] = corpus.rating.replace(2.0, 1.0)\n",
    "corpus[\"rating\"] = corpus.rating.replace(4.0, 5.0)\n",
    "\n",
    "#split_corpus(corpus, split=0.8, output_path = \"../corpora/altersplits/\")"
   ]
  },
  {
   "cell_type": "markdown",
   "metadata": {},
   "source": [
    "# different classes (only 3) with downsampling and rename classes"
   ]
  },
  {
   "cell_type": "code",
   "execution_count": 2,
   "metadata": {
    "collapsed": true
   },
   "outputs": [
    {
     "name": "stderr",
     "output_type": "stream",
     "text": [
      "/Users/jan/projects/wordembeddings/app/utils.py:182: SettingWithCopyWarning: \n",
      "A value is trying to be set on a copy of a slice from a DataFrame.\n",
      "Try using .loc[row_indexer,col_indexer] = value instead\n",
      "\n",
      "See the caveats in the documentation: https://pandas.pydata.org/pandas-docs/stable/user_guide/indexing.html#returning-a-view-versus-a-copy\n",
      "  df[text_col] = df.apply(lambda row: word_tokenize(row[text_col]), axis=1)\n"
     ]
    },
    {
     "name": "stdout",
     "output_type": "stream",
     "text": [
      "CPU times: user 58.5 s, sys: 1.18 s, total: 59.7 s\n",
      "Wall time: 1min 1s\n"
     ]
    }
   ],
   "source": [
    "%%time\n",
    "import pandas as pd\n",
    "from utils import *\n",
    "\n",
    "corpus = pd.read_csv(\"../corpora/old/amazon_reviews_electronic.csv\")\n",
    "corpus = random_downsampling(corpus, splitting=3,\n",
    "                             class_col=\"rating\", max_value = 15000)\n",
    "\n",
    "def length(x):\n",
    "    return len(word_tokenize(x))\n",
    "\n",
    "corpus[\"length\"] = corpus.review.apply(length)\n",
    "\n",
    "corpus[\"rating\"] = corpus.rating.replace(1.0, \"negative\")\n",
    "corpus[\"rating\"] = corpus.rating.replace(3.0, \"neutral\")\n",
    "corpus[\"rating\"] = corpus.rating.replace(5.0, \"positive\")\n",
    "corpus.to_csv(\"../corpora/alter_small_amazon_reviews_electronic.csv\", index=False)\n",
    "split_corpus(corpus, split=0.8, output_path = \"../corpora/altersplits/\")"
   ]
  },
  {
   "cell_type": "markdown",
   "metadata": {},
   "source": [
    "# combine results"
   ]
  },
  {
   "cell_type": "code",
   "execution_count": 1,
   "metadata": {},
   "outputs": [],
   "source": [
    "import glob\n",
    "import os\n",
    "from pathlib import Path\n",
    "from collections import defaultdict\n",
    "import numpy as np"
   ]
  },
  {
   "cell_type": "code",
   "execution_count": 12,
   "metadata": {},
   "outputs": [
    {
     "data": {
      "text/plain": [
       "[('bs50_mf25000_lr0.01', 70.98666666666666),\n",
       " ('bs50_mf50000_lr0.01', 70.92333333333333),\n",
       " ('bs50_mf50000_lr0.001', 70.65333333333332),\n",
       " ('bs50_mf25000_lr0.001', 70.42333333333333)]"
      ]
     },
     "execution_count": 12,
     "metadata": {},
     "output_type": "execute_result"
    }
   ],
   "source": [
    "embedding = \"glove-840\"\n",
    "model = \"glove\"\n",
    "path = f\"../results/{model}/\"\n",
    "\n",
    "results = defaultdict(list)\n",
    "for file in Path(path).rglob(\"*.txt\"):\n",
    "    if embedding in file.stem:\n",
    "        with open(file, \"r\") as f:\n",
    "            s = f.read()\n",
    "            s = s[-6:-1]\n",
    "            s = s.replace(\" \", \"\")\n",
    "            s = float(s)\n",
    "        key = file.stem[len(embedding)+3:]\n",
    "        results[key].append(s)\n",
    "    \n",
    "means = {}\n",
    "for k, v in dict(results).items():\n",
    "    means[k] = np.mean(v)\n",
    "means_sorted = sorted(means.items(), key=lambda x: x[1], reverse=True)\n",
    "means_sorted"
   ]
  },
  {
   "cell_type": "code",
   "execution_count": null,
   "metadata": {},
   "outputs": [],
   "source": []
  }
 ],
 "metadata": {
  "kernelspec": {
   "display_name": "Python 3",
   "language": "python",
   "name": "python3"
  },
  "language_info": {
   "codemirror_mode": {
    "name": "ipython",
    "version": 3
   },
   "file_extension": ".py",
   "mimetype": "text/x-python",
   "name": "python",
   "nbconvert_exporter": "python",
   "pygments_lexer": "ipython3",
   "version": "3.7.7"
  },
  "toc": {
   "base_numbering": 1,
   "nav_menu": {},
   "number_sections": true,
   "sideBar": true,
   "skip_h1_title": false,
   "title_cell": "Table of contents",
   "title_sidebar": "Contents",
   "toc_cell": true,
   "toc_position": {
    "height": "calc(100% - 180px)",
    "left": "10px",
    "top": "150px",
    "width": "230.5500030517578px"
   },
   "toc_section_display": true,
   "toc_window_display": true
  }
 },
 "nbformat": 4,
 "nbformat_minor": 4
}
