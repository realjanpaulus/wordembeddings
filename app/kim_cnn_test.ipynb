{
 "cells": [
  {
   "cell_type": "markdown",
   "metadata": {},
   "source": [
    "# KimCNN\n",
    "https://towardsdatascience.com/identifying-hate-speech-with-bert-and-cnn-b7aa2cddd60d"
   ]
  },
  {
   "cell_type": "code",
   "execution_count": 1,
   "metadata": {},
   "outputs": [],
   "source": [
    "%matplotlib inline"
   ]
  },
  {
   "cell_type": "code",
   "execution_count": 2,
   "metadata": {},
   "outputs": [],
   "source": [
    "import logging\n",
    "import time\n",
    "from platform import python_version\n",
    "\n",
    "import matplotlib\n",
    "import matplotlib.pyplot as plt\n",
    "import numpy as np\n",
    "import pandas as pd\n",
    "import sklearn\n",
    "import torch\n",
    "import torch.nn as nn\n",
    "import torch.nn.functional as F\n",
    "import transformers\n",
    "from sklearn.metrics import roc_auc_score\n",
    "from torch.autograd import Variable\n",
    "\n",
    "from utils import *"
   ]
  },
  {
   "cell_type": "code",
   "execution_count": 3,
   "metadata": {},
   "outputs": [
    {
     "name": "stdout",
     "output_type": "stream",
     "text": [
      "python version==3.7.7\n",
      "pandas==1.0.3\n",
      "numpy==1.19.1\n",
      "torch==1.6.0\n",
      "sklearn==0.23.1\n",
      "transformers==3.0.2\n",
      "matplotlib==3.3.0\n"
     ]
    }
   ],
   "source": [
    "print(\"python version==%s\" % python_version())\n",
    "print(\"pandas==%s\" % pd.__version__)\n",
    "print(\"numpy==%s\" % np.__version__)\n",
    "print(\"torch==%s\" % torch.__version__)\n",
    "print(\"sklearn==%s\" % sklearn.__version__)\n",
    "print(\"transformers==%s\" % transformers.__version__)\n",
    "print(\"matplotlib==%s\" % matplotlib.__version__)"
   ]
  },
  {
   "cell_type": "code",
   "execution_count": 4,
   "metadata": {},
   "outputs": [],
   "source": [
    "logging.getLogger(\"transformers.tokenization_utils\").setLevel(logging.ERROR)"
   ]
  },
  {
   "cell_type": "markdown",
   "metadata": {},
   "source": [
    "# hyperparams & corpus"
   ]
  },
  {
   "cell_type": "code",
   "execution_count": 5,
   "metadata": {},
   "outputs": [],
   "source": [
    "SAMPLE_SIZE = 140\n",
    "LABEL_COL = \"rating\"\n",
    "MAX_SEQ = 100\n",
    "\n",
    "TRAIN_SIZE = 0.6\n",
    "\n",
    "EPOCHS = 50\n",
    "BATCH_SIZE = 16\n",
    "LEARNING_RATE = 0.01"
   ]
  },
  {
   "cell_type": "code",
   "execution_count": 6,
   "metadata": {},
   "outputs": [
    {
     "data": {
      "text/plain": [
       "(140, 6)"
      ]
     },
     "execution_count": 6,
     "metadata": {},
     "output_type": "execute_result"
    }
   ],
   "source": [
    "df = pd.read_csv('../corpora/small_amazon_reviews_electronic.csv')\n",
    "df = df.sample(SAMPLE_SIZE)\n",
    "df.shape"
   ]
  },
  {
   "cell_type": "code",
   "execution_count": 7,
   "metadata": {},
   "outputs": [
    {
     "data": {
      "text/html": [
       "<div>\n",
       "<style scoped>\n",
       "    .dataframe tbody tr th:only-of-type {\n",
       "        vertical-align: middle;\n",
       "    }\n",
       "\n",
       "    .dataframe tbody tr th {\n",
       "        vertical-align: top;\n",
       "    }\n",
       "\n",
       "    .dataframe thead th {\n",
       "        text-align: right;\n",
       "    }\n",
       "</style>\n",
       "<table border=\"1\" class=\"dataframe\">\n",
       "  <thead>\n",
       "    <tr style=\"text-align: right;\">\n",
       "      <th></th>\n",
       "      <th>rating</th>\n",
       "      <th>name</th>\n",
       "      <th>review</th>\n",
       "      <th>verified</th>\n",
       "      <th>vote</th>\n",
       "      <th>date</th>\n",
       "    </tr>\n",
       "  </thead>\n",
       "  <tbody>\n",
       "    <tr>\n",
       "      <th>56116</th>\n",
       "      <td>4.0</td>\n",
       "      <td>Matthew Throne</td>\n",
       "      <td>Being able to weigh it down is a nice addition...</td>\n",
       "      <td>True</td>\n",
       "      <td>0.0</td>\n",
       "      <td>27.01.2018</td>\n",
       "    </tr>\n",
       "    <tr>\n",
       "      <th>51262</th>\n",
       "      <td>4.0</td>\n",
       "      <td>Johnboy7701</td>\n",
       "      <td>Works well could be a little stronger</td>\n",
       "      <td>True</td>\n",
       "      <td>0.0</td>\n",
       "      <td>25.06.2018</td>\n",
       "    </tr>\n",
       "  </tbody>\n",
       "</table>\n",
       "</div>"
      ],
      "text/plain": [
       "       rating            name  \\\n",
       "56116     4.0  Matthew Throne   \n",
       "51262     4.0     Johnboy7701   \n",
       "\n",
       "                                                  review  verified  vote  \\\n",
       "56116  Being able to weigh it down is a nice addition...      True   0.0   \n",
       "51262              Works well could be a little stronger      True   0.0   \n",
       "\n",
       "             date  \n",
       "56116  27.01.2018  \n",
       "51262  25.06.2018  "
      ]
     },
     "execution_count": 7,
     "metadata": {},
     "output_type": "execute_result"
    }
   ],
   "source": [
    "df.head(2)"
   ]
  },
  {
   "cell_type": "code",
   "execution_count": 8,
   "metadata": {},
   "outputs": [],
   "source": [
    "TRAIN_IDX = int(df.shape[0] * TRAIN_SIZE)\n",
    "VAL_IDX = int(TRAIN_IDX) + int((df.shape[0] * (1-TRAIN_SIZE))/2)"
   ]
  },
  {
   "cell_type": "code",
   "execution_count": 9,
   "metadata": {},
   "outputs": [],
   "source": [
    "df_train = df[:TRAIN_IDX].reset_index(drop=True)\n",
    "df_val = df[TRAIN_IDX:VAL_IDX].reset_index(drop=True)\n",
    "df_test = df[VAL_IDX:].reset_index(drop=True)"
   ]
  },
  {
   "cell_type": "code",
   "execution_count": 10,
   "metadata": {},
   "outputs": [
    {
     "name": "stdout",
     "output_type": "stream",
     "text": [
      "(84, 6) (28, 6) (28, 6)\n"
     ]
    }
   ],
   "source": [
    "print(df_train.shape, df_val.shape, df_test.shape)"
   ]
  },
  {
   "cell_type": "markdown",
   "metadata": {},
   "source": [
    "# BERT"
   ]
  },
  {
   "cell_type": "code",
   "execution_count": 11,
   "metadata": {},
   "outputs": [],
   "source": [
    "model_class = transformers.BertModel\n",
    "tokenizer_class = transformers.BertTokenizer\n",
    "pretrained_weights='bert-base-uncased'"
   ]
  },
  {
   "cell_type": "code",
   "execution_count": 12,
   "metadata": {},
   "outputs": [
    {
     "name": "stdout",
     "output_type": "stream",
     "text": [
      "CPU times: user 3.38 s, sys: 1.04 s, total: 4.43 s\n",
      "Wall time: 8.48 s\n"
     ]
    }
   ],
   "source": [
    "%%time\n",
    "tokenizer = tokenizer_class.from_pretrained(pretrained_weights)\n",
    "bert_model = model_class.from_pretrained(pretrained_weights)"
   ]
  },
  {
   "cell_type": "code",
   "execution_count": 13,
   "metadata": {},
   "outputs": [],
   "source": [
    "def tokenize_text(df, max_seq):\n",
    "    return [\n",
    "        tokenizer.encode(text, add_special_tokens=True)[:max_seq] for text in df.review.values\n",
    "    ]\n",
    "\n",
    "def pad_text(tokenized_text, max_seq):\n",
    "    return np.array([el + [0] * (max_seq - len(el)) for el in tokenized_text])\n",
    "\n",
    "\n",
    "def tokenize_and_pad_text(df, max_seq):\n",
    "    tokenized_text = tokenize_text(df, max_seq)\n",
    "    padded_text = pad_text(tokenized_text, max_seq)\n",
    "    return torch.tensor(padded_text, dtype=torch.long)\n",
    "\n",
    "\n",
    "def targets_to_tensor(df, target_columns):\n",
    "    return torch.tensor(df[target_columns].values, dtype=torch.long)"
   ]
  },
  {
   "cell_type": "code",
   "execution_count": 14,
   "metadata": {},
   "outputs": [],
   "source": [
    "train_indices = tokenize_and_pad_text(df_train, MAX_SEQ)\n",
    "val_indices = tokenize_and_pad_text(df_val, MAX_SEQ)\n",
    "test_indices = tokenize_and_pad_text(df_test, MAX_SEQ)"
   ]
  },
  {
   "cell_type": "code",
   "execution_count": 15,
   "metadata": {},
   "outputs": [
    {
     "data": {
      "text/plain": [
       "tensor([[ 101, 2108, 2583,  ...,    0,    0,    0],\n",
       "        [ 101, 2573, 2092,  ...,    0,    0,    0],\n",
       "        [ 101, 2023, 2003,  ..., 2000, 2031, 2330],\n",
       "        ...,\n",
       "        [ 101, 7929, 3737,  ...,    0,    0,    0],\n",
       "        [ 101, 2049, 1037,  ..., 4057, 2068, 2000],\n",
       "        [ 101, 1996, 2132,  ...,    0,    0,    0]])"
      ]
     },
     "execution_count": 15,
     "metadata": {},
     "output_type": "execute_result"
    }
   ],
   "source": [
    "train_indices"
   ]
  },
  {
   "cell_type": "code",
   "execution_count": 16,
   "metadata": {},
   "outputs": [
    {
     "name": "stdout",
     "output_type": "stream",
     "text": [
      "CPU times: user 1min 12s, sys: 2.62 s, total: 1min 14s\n",
      "Wall time: 44 s\n"
     ]
    }
   ],
   "source": [
    "%%time\n",
    "with torch.no_grad():\n",
    "    x_train = bert_model(train_indices)[0]  # Models outputs are tuples\n",
    "    x_val = bert_model(val_indices)[0]\n",
    "    x_test = bert_model(test_indices)[0]"
   ]
  },
  {
   "cell_type": "code",
   "execution_count": 17,
   "metadata": {},
   "outputs": [],
   "source": [
    "y_train = targets_to_tensor(df_train, LABEL_COL)\n",
    "y_val = targets_to_tensor(df_val, LABEL_COL)\n",
    "y_test = targets_to_tensor(df_test, LABEL_COL)"
   ]
  },
  {
   "cell_type": "code",
   "execution_count": 18,
   "metadata": {},
   "outputs": [
    {
     "name": "stdout",
     "output_type": "stream",
     "text": [
      "torch.Size([100, 768]) tensor([[-0.2582, -0.0506,  0.2093,  ...,  0.0064,  0.7348, -0.2861],\n",
      "        [-0.2798, -0.0714, -0.8908,  ...,  0.3321,  0.9854,  0.3146],\n",
      "        [-0.2897, -0.0796,  0.1219,  ...,  0.1095,  0.4294, -0.1900],\n",
      "        ...,\n",
      "        [ 0.3450, -0.2605,  0.9711,  ..., -0.7647,  0.3504, -1.2968],\n",
      "        [ 0.1684, -0.2694,  0.9803,  ..., -0.7790,  0.2555, -1.2936],\n",
      "        [ 0.2664, -0.1511,  0.7620,  ..., -0.8262,  0.2276, -1.4162]])\n"
     ]
    }
   ],
   "source": [
    "print(x_train[0].shape, x_train[0])"
   ]
  },
  {
   "cell_type": "code",
   "execution_count": 30,
   "metadata": {},
   "outputs": [],
   "source": [
    "class KimCNN(nn.Module):\n",
    "    \"\"\" Conv2d(in_channel = 1, \n",
    "           out_channel = 3,\n",
    "           kernel_size = (2,768) oder (3,768) oder (4,768))\n",
    "    \"\"\" \n",
    "    def __init__(self, embed_num, embed_dim, class_num, kernel_num, kernel_sizes, dropout, static):\n",
    "        super(KimCNN, self).__init__()\n",
    "\n",
    "        V = embed_num # maximum number of words in review\n",
    "        D = embed_dim # 768\n",
    "        C = class_num # 5\n",
    "        Co = kernel_num # number of filters for each convolution operation\n",
    "        Ks = kernel_sizes # e.g. combinations of 2, 3, 4, ... words\n",
    "        \n",
    "        self.static = static\n",
    "        self.embed = nn.Embedding(V, D)\n",
    "        self.convs1 = nn.ModuleList([\n",
    "            nn.Conv2d(1, Co, (K, D)) for K in Ks\n",
    "          ])\n",
    "        self.dropout = nn.Dropout(dropout)\n",
    "        self.fc1 = nn.Linear(len(Ks) * Co, C)\n",
    "        \n",
    "        # OLD: self.sigmoid = nn.Sigmoid()\n",
    "        # TODO\n",
    "        #self.softmax = nn.Softmax(dim=1)\n",
    "\n",
    "    def forward(self, x):\n",
    "        if self.static:\n",
    "            x = Variable(x)\n",
    "        x = x.unsqueeze(1)  # (N, Ci, W, D)\n",
    "        x = [F.relu(conv(x)).squeeze(3) for conv in self.convs1]  # [(N, Co, W), ...]*len(Ks)\n",
    "        x = [F.max_pool1d(i, i.size(2)).squeeze(2) for i in x]  # [(N, Co), ...]*len(Ks)\n",
    "        x = torch.cat(x, 1)\n",
    "        x = self.dropout(x)  # (N, len(Ks)*Co)\n",
    "        logit = self.fc1(x)  # (N, C)\n",
    "        # OLD: output = self.sigmoid(logit)\n",
    "        # TODO\n",
    "        # output = self.softmax(logit)\n",
    "        return logit\n",
    "    "
   ]
  },
  {
   "cell_type": "markdown",
   "metadata": {},
   "source": [
    "- **embed_num** represents the maximum number of words in a comment (100 in this example).\n",
    "- **embed_dim** represents the size of BERT embedding (768).\n",
    "- **class_num** is the number of toxicity threats to predict (6).\n",
    "- **kernel_num** is the number of filters for each convolution operation (eg. 3 filters for [2 x m] convolution).\n",
    "- **kernel_sizes** of convolutions. Eg. look at combinations 2 words, 3 words, etc.\n",
    "- **dropout** is the percentage of randomly set hidden units to 0 at each update of the training phase. Tip: Make sure you disable dropout during test/validation phase to get deterministic output.\n",
    "- **static** parameter True means that we don’t calculate gradients of embeddings and they stay static. If we set it to False, it would increase the number of parameters the model needs to learn and it could overfit."
   ]
  },
  {
   "cell_type": "code",
   "execution_count": 31,
   "metadata": {},
   "outputs": [],
   "source": [
    "embed_num = x_train.shape[1]\n",
    "embed_dim = x_train.shape[2]\n",
    "class_num = 6\n",
    "kernel_num = 3\n",
    "kernel_sizes = [2, 3, 4]\n",
    "dropout = 0.5\n",
    "static = True\n",
    "\n",
    "\n",
    "model = KimCNN(\n",
    "    embed_num=embed_num,\n",
    "    embed_dim=embed_dim,\n",
    "    class_num=class_num,\n",
    "    kernel_num=kernel_num,\n",
    "    kernel_sizes=kernel_sizes,\n",
    "    dropout=dropout,\n",
    "    static=static,\n",
    ")"
   ]
  },
  {
   "cell_type": "code",
   "execution_count": 32,
   "metadata": {},
   "outputs": [
    {
     "data": {
      "text/plain": [
       "KimCNN(\n",
       "  (embed): Embedding(100, 768)\n",
       "  (convs1): ModuleList(\n",
       "    (0): Conv2d(1, 3, kernel_size=(2, 768), stride=(1, 1))\n",
       "    (1): Conv2d(1, 3, kernel_size=(3, 768), stride=(1, 1))\n",
       "    (2): Conv2d(1, 3, kernel_size=(4, 768), stride=(1, 1))\n",
       "  )\n",
       "  (dropout): Dropout(p=0.5, inplace=False)\n",
       "  (fc1): Linear(in_features=9, out_features=6, bias=True)\n",
       ")"
      ]
     },
     "execution_count": 32,
     "metadata": {},
     "output_type": "execute_result"
    }
   ],
   "source": [
    "model"
   ]
  },
  {
   "cell_type": "code",
   "execution_count": 23,
   "metadata": {},
   "outputs": [],
   "source": [
    "optimizer = torch.optim.Adam(model.parameters(), lr=LEARNING_RATE)\n",
    "loss_fn = nn.CrossEntropyLoss()"
   ]
  },
  {
   "cell_type": "code",
   "execution_count": 24,
   "metadata": {},
   "outputs": [],
   "source": [
    "def generate_batch_data(x, y, batch_size):\n",
    "    i, batch = 0, 0\n",
    "    for batch, i in enumerate(range(0, len(x) - batch_size, batch_size), 1):\n",
    "        x_batch = x[i : i + batch_size]\n",
    "        y_batch = y[i : i + batch_size]\n",
    "        yield x_batch, y_batch, batch\n",
    "    if i + batch_size < len(x):\n",
    "        yield x[i + batch_size :], y[i + batch_size :], batch + 1\n",
    "    if batch == 0:\n",
    "        yield x, y, 1"
   ]
  },
  {
   "cell_type": "code",
   "execution_count": 45,
   "metadata": {},
   "outputs": [
    {
     "name": "stdout",
     "output_type": "stream",
     "text": [
      "Epoch 1 (1.119s)\n",
      "Train loss: 0.339 | Val Loss: 2.005\n",
      "Train acc: 85.417% | Val acc: 23.958%\n",
      "----------------------------------------\n",
      "Epoch 2 (0.898s)\n",
      "Train loss: 0.474 | Val Loss: 1.963\n",
      "Train acc: 78.125% | Val acc: 28.125%\n",
      "----------------------------------------\n",
      "Epoch 3 (0.889s)\n",
      "Train loss: 0.526 | Val Loss: 1.944\n",
      "Train acc: 70.833% | Val acc: 35.417%\n",
      "----------------------------------------\n",
      "Epoch 4 (0.893s)\n",
      "Train loss: 0.372 | Val Loss: 1.979\n",
      "Train acc: 81.25% | Val acc: 36.458%\n",
      "----------------------------------------\n",
      "Epoch 5 (0.984s)\n",
      "Train loss: 0.441 | Val Loss: 1.986\n",
      "Train acc: 79.167% | Val acc: 39.583%\n",
      "----------------------------------------\n",
      "Epoch 6 (1.012s)\n",
      "Train loss: 0.408 | Val Loss: 1.983\n",
      "Train acc: 80.208% | Val acc: 35.417%\n",
      "----------------------------------------\n",
      "Epoch 7 (1.646s)\n",
      "Train loss: 0.469 | Val Loss: 2.04\n",
      "Train acc: 76.042% | Val acc: 28.125%\n",
      "----------------------------------------\n",
      "Epoch 8 (2.592s)\n",
      "Train loss: 0.484 | Val Loss: 2.06\n",
      "Train acc: 78.125% | Val acc: 31.25%\n",
      "----------------------------------------\n",
      "Epoch 9 (3.402s)\n",
      "Train loss: 0.657 | Val Loss: 2.003\n",
      "Train acc: 63.542% | Val acc: 35.417%\n",
      "----------------------------------------\n",
      "Epoch 10 (2.951s)\n",
      "Train loss: 0.463 | Val Loss: 2.0\n",
      "Train acc: 78.125% | Val acc: 32.292%\n",
      "----------------------------------------\n",
      "Epoch 11 (2.542s)\n",
      "Train loss: 0.383 | Val Loss: 1.997\n",
      "Train acc: 78.125% | Val acc: 32.292%\n",
      "----------------------------------------\n",
      "Epoch 12 (3.141s)\n",
      "Train loss: 0.447 | Val Loss: 2.005\n",
      "Train acc: 80.208% | Val acc: 32.292%\n",
      "----------------------------------------\n",
      "Epoch 13 (2.063s)\n",
      "Train loss: 0.513 | Val Loss: 2.029\n",
      "Train acc: 73.958% | Val acc: 32.292%\n",
      "----------------------------------------\n",
      "Epoch 14 (1.804s)\n",
      "Train loss: 0.485 | Val Loss: 1.992\n",
      "Train acc: 73.958% | Val acc: 32.292%\n",
      "----------------------------------------\n",
      "Epoch 15 (1.26s)\n",
      "Train loss: 0.509 | Val Loss: 1.934\n",
      "Train acc: 73.958% | Val acc: 32.292%\n",
      "----------------------------------------\n",
      "Epoch 16 (4.132s)\n",
      "Train loss: 0.439 | Val Loss: 1.983\n",
      "Train acc: 82.292% | Val acc: 29.167%\n",
      "----------------------------------------\n",
      "Epoch 17 (3.477s)\n",
      "Train loss: 0.422 | Val Loss: 1.983\n",
      "Train acc: 80.208% | Val acc: 36.458%\n",
      "----------------------------------------\n",
      "Epoch 18 (4.573s)\n",
      "Train loss: 0.382 | Val Loss: 1.999\n",
      "Train acc: 81.25% | Val acc: 32.292%\n",
      "----------------------------------------\n",
      "Epoch 19 (4.624s)\n",
      "Train loss: 0.384 | Val Loss: 2.015\n",
      "Train acc: 81.25% | Val acc: 32.292%\n",
      "----------------------------------------\n",
      "Epoch 20 (4.712s)\n",
      "Train loss: 0.482 | Val Loss: 2.055\n",
      "Train acc: 76.042% | Val acc: 29.167%\n",
      "----------------------------------------\n",
      "Epoch 21 (2.821s)\n",
      "Train loss: 0.484 | Val Loss: 2.078\n",
      "Train acc: 76.042% | Val acc: 32.292%\n",
      "----------------------------------------\n",
      "Epoch 22 (1.947s)\n",
      "Train loss: 0.446 | Val Loss: 2.062\n",
      "Train acc: 79.167% | Val acc: 25.0%\n",
      "----------------------------------------\n",
      "Epoch 23 (1.863s)\n",
      "Train loss: 0.431 | Val Loss: 2.037\n",
      "Train acc: 78.125% | Val acc: 29.167%\n",
      "----------------------------------------\n",
      "Epoch 24 (2.674s)\n",
      "Train loss: 0.495 | Val Loss: 1.997\n",
      "Train acc: 77.083% | Val acc: 29.167%\n",
      "----------------------------------------\n",
      "Epoch 25 (1.88s)\n",
      "Train loss: 0.433 | Val Loss: 1.973\n",
      "Train acc: 79.167% | Val acc: 29.167%\n",
      "----------------------------------------\n",
      "Epoch 26 (2.017s)\n",
      "Train loss: 0.512 | Val Loss: 1.967\n",
      "Train acc: 76.042% | Val acc: 32.292%\n",
      "----------------------------------------\n",
      "Epoch 27 (1.591s)\n",
      "Train loss: 0.339 | Val Loss: 1.957\n",
      "Train acc: 85.417% | Val acc: 29.167%\n",
      "----------------------------------------\n",
      "Epoch 28 (1.853s)\n",
      "Train loss: 0.476 | Val Loss: 2.023\n",
      "Train acc: 75.0% | Val acc: 25.0%\n",
      "----------------------------------------\n",
      "Epoch 29 (2.589s)\n",
      "Train loss: 0.418 | Val Loss: 2.07\n",
      "Train acc: 79.167% | Val acc: 29.167%\n",
      "----------------------------------------\n",
      "Epoch 30 (1.387s)\n",
      "Train loss: 0.409 | Val Loss: 2.059\n",
      "Train acc: 82.292% | Val acc: 32.292%\n",
      "----------------------------------------\n",
      "Epoch 31 (1.914s)\n",
      "Train loss: 0.472 | Val Loss: 2.09\n",
      "Train acc: 73.958% | Val acc: 32.292%\n",
      "----------------------------------------\n",
      "Epoch 32 (1.952s)\n",
      "Train loss: 0.457 | Val Loss: 2.106\n",
      "Train acc: 75.0% | Val acc: 25.0%\n",
      "----------------------------------------\n",
      "Epoch 33 (1.701s)\n",
      "Train loss: 0.579 | Val Loss: 1.979\n",
      "Train acc: 70.833% | Val acc: 26.042%\n",
      "----------------------------------------\n",
      "Epoch 34 (1.71s)\n",
      "Train loss: 0.62 | Val Loss: 1.936\n",
      "Train acc: 69.792% | Val acc: 25.0%\n",
      "----------------------------------------\n",
      "Epoch 35 (2.004s)\n",
      "Train loss: 0.552 | Val Loss: 1.999\n",
      "Train acc: 68.75% | Val acc: 25.0%\n",
      "----------------------------------------\n",
      "Epoch 36 (1.583s)\n",
      "Train loss: 0.436 | Val Loss: 2.102\n",
      "Train acc: 79.167% | Val acc: 25.0%\n",
      "----------------------------------------\n",
      "Epoch 37 (2.222s)\n",
      "Train loss: 0.558 | Val Loss: 2.163\n",
      "Train acc: 69.792% | Val acc: 20.833%\n",
      "----------------------------------------\n",
      "Epoch 38 (1.399s)\n",
      "Train loss: 0.485 | Val Loss: 2.195\n",
      "Train acc: 72.917% | Val acc: 28.125%\n",
      "----------------------------------------\n",
      "Epoch 39 (1.489s)\n",
      "Train loss: 0.527 | Val Loss: 2.146\n",
      "Train acc: 75.0% | Val acc: 32.292%\n",
      "----------------------------------------\n",
      "Epoch 40 (2.063s)\n",
      "Train loss: 0.492 | Val Loss: 2.092\n",
      "Train acc: 73.958% | Val acc: 20.833%\n",
      "----------------------------------------\n",
      "Epoch 41 (1.428s)\n",
      "Train loss: 0.496 | Val Loss: 2.042\n",
      "Train acc: 75.0% | Val acc: 28.125%\n",
      "----------------------------------------\n",
      "Epoch 42 (1.454s)\n",
      "Train loss: 0.494 | Val Loss: 2.09\n",
      "Train acc: 79.167% | Val acc: 28.125%\n",
      "----------------------------------------\n",
      "Epoch 43 (2.081s)\n",
      "Train loss: 0.462 | Val Loss: 2.152\n",
      "Train acc: 75.0% | Val acc: 32.292%\n",
      "----------------------------------------\n",
      "Epoch 44 (1.555s)\n",
      "Train loss: 0.502 | Val Loss: 2.12\n",
      "Train acc: 76.042% | Val acc: 28.125%\n",
      "----------------------------------------\n",
      "Epoch 45 (1.838s)\n",
      "Train loss: 0.42 | Val Loss: 2.149\n",
      "Train acc: 82.292% | Val acc: 20.833%\n",
      "----------------------------------------\n",
      "Epoch 46 (1.674s)\n",
      "Train loss: 0.559 | Val Loss: 2.133\n",
      "Train acc: 73.958% | Val acc: 29.167%\n",
      "----------------------------------------\n",
      "Epoch 47 (1.619s)\n",
      "Train loss: 0.508 | Val Loss: 2.122\n",
      "Train acc: 70.833% | Val acc: 29.167%\n",
      "----------------------------------------\n",
      "Epoch 48 (2.036s)\n",
      "Train loss: 0.521 | Val Loss: 2.094\n",
      "Train acc: 71.875% | Val acc: 32.292%\n",
      "----------------------------------------\n",
      "Epoch 49 (1.402s)\n",
      "Train loss: 0.444 | Val Loss: 2.133\n",
      "Train acc: 79.167% | Val acc: 32.292%\n",
      "----------------------------------------\n",
      "Epoch 50 (1.475s)\n",
      "Train loss: 0.543 | Val Loss: 2.207\n",
      "Train acc: 76.042% | Val acc: 32.292%\n",
      "----------------------------------------\n"
     ]
    }
   ],
   "source": [
    "train_losses, val_losses = [], []\n",
    "train_accuracies, val_accuracies = [], []\n",
    "\n",
    "#x_train = x_train.long()\n",
    "#y_train = y_train.long()\n",
    "\n",
    "for epoch in range(1, EPOCHS+1):\n",
    "    start_time = time.time()\n",
    "    train_loss = 0\n",
    "    train_acc = 0\n",
    "\n",
    "    model.train(True)\n",
    "    for x_batch, y_batch, batch in generate_batch_data(x_train, y_train, BATCH_SIZE):\n",
    "        #x_batch = x_batch.long()\n",
    "        #y_batch = y_batch.long()\n",
    "        \n",
    "        y_pred = model(x_batch)\n",
    "        optimizer.zero_grad()\n",
    "        loss = loss_fn(y_pred, y_batch)\n",
    "        acc = categorical_accuracy(y_pred, y_batch)\n",
    "        loss.backward()\n",
    "        optimizer.step()\n",
    "        train_loss += loss.item()\n",
    "        train_acc += acc.item()\n",
    "\n",
    "    train_loss /= batch\n",
    "    train_acc /= batch\n",
    "    train_losses.append(train_loss)\n",
    "    train_accuracies.append(train_acc)\n",
    "    elapsed = time.time() - start_time\n",
    "    \n",
    "\n",
    "    model.eval() # disable dropout for deterministic output\n",
    "    with torch.no_grad(): # deactivate autograd engine to reduce memory usage and speed up computations\n",
    "        val_loss, batch = 0, 1\n",
    "        val_acc = 0\n",
    "        for x_batch, y_batch, batch in generate_batch_data(x_val, y_val, BATCH_SIZE):\n",
    "            y_pred = model(x_batch)\n",
    "            loss = loss_fn(y_pred, y_batch)\n",
    "            acc = categorical_accuracy(y_pred, y_batch)\n",
    "            val_loss += loss.item()\n",
    "            val_acc += acc.item()\n",
    "        val_loss /= batch\n",
    "        val_acc /= batch\n",
    "        val_losses.append(val_loss)\n",
    "        val_accuracies.append(val_acc)\n",
    "        \n",
    "    def rnd(n):\n",
    "        return np.around(n, decimals=3)\n",
    "    \n",
    "    print(f\"Epoch {epoch} ({rnd(elapsed)}s)\")\n",
    "    print(f\"Train loss: {rnd(train_losses[-1])} | Val Loss: {rnd(val_losses[-1])}\")\n",
    "    print(f\"Train acc: {rnd(train_accuracies[-1]*100)}% | Val acc: {rnd(val_accuracies[-1]*100)}%\") \n",
    "    print(\"----------------------------------------\")"
   ]
  },
  {
   "cell_type": "code",
   "execution_count": 46,
   "metadata": {},
   "outputs": [
    {
     "data": {
      "text/plain": [
       "Text(0.5, 1.0, 'Losses')"
      ]
     },
     "execution_count": 46,
     "metadata": {},
     "output_type": "execute_result"
    },
    {
     "data": {
      "image/png": "[encoded data removed]",
      "text/plain": [
       "<Figure size 432x288 with 1 Axes>"
      ]
     },
     "metadata": {
      "needs_background": "light"
     },
     "output_type": "display_data"
    }
   ],
   "source": [
    "plt.plot(train_losses, label=\"Training loss\")\n",
    "plt.plot(val_losses, label=\"Validation loss\")\n",
    "plt.legend()\n",
    "plt.title(\"Losses\")"
   ]
  },
  {
   "cell_type": "code",
   "execution_count": 93,
   "metadata": {},
   "outputs": [],
   "source": [
    "model.eval() # disable dropout for deterministic output\n",
    "with torch.no_grad(): # deactivate autograd engine to reduce memory usage and speed up computations\n",
    "    y_preds = []\n",
    "    batch = 0\n",
    "    for x_batch, y_batch, batch in generate_batch_data(x_test, y_test, BATCH_SIZE):\n",
    "        y_pred = model(x_batch)\n",
    "        y_preds.extend(y_pred.cpu().numpy().tolist())\n",
    "    y_preds_np = np.array(y_preds)"
   ]
  },
  {
   "cell_type": "code",
   "execution_count": 94,
   "metadata": {},
   "outputs": [
    {
     "data": {
      "text/plain": [
       "array([[-0.25008011,  0.15140831,  0.75387979,  0.77974641,  0.3716363 ,\n",
       "         0.9738462 ],\n",
       "       [-0.94829065,  0.23531982,  0.83165634,  1.54329777,  1.14960456,\n",
       "         1.16471028],\n",
       "       [-0.48482552,  0.39177954,  0.78040463,  1.23994446,  0.87735057,\n",
       "         1.00564682],\n",
       "       [-0.9384107 ,  1.64808559,  0.4806627 ,  1.81574142,  1.49107528,\n",
       "         1.08294749],\n",
       "       [-0.67829269,  0.0891971 ,  0.43799555,  0.86421561,  0.57455552,\n",
       "         0.78969955],\n",
       "       [-0.73730791,  1.43386567,  0.73605382,  1.66408563,  1.28786242,\n",
       "         1.10473347],\n",
       "       [-0.37489676,  0.54627359,  0.94118488,  1.16473258,  0.71518099,\n",
       "         1.30123246],\n",
       "       [-1.17724597,  0.08536696,  0.71791536,  1.86519945,  1.67288768,\n",
       "         0.7148447 ],\n",
       "       [-0.20030463,  0.68846339,  0.80267853,  1.0018332 ,  0.61734319,\n",
       "         1.03747559],\n",
       "       [-0.71334618,  1.32633471,  0.78794098,  1.67961109,  1.22302091,\n",
       "         1.29960382],\n",
       "       [-0.7080245 ,  0.97795302,  0.74817371,  1.62543619,  1.39047766,\n",
       "         1.1338824 ],\n",
       "       [-0.45176068,  1.58237851,  0.5507887 ,  1.48749936,  1.20019913,\n",
       "         1.06881547],\n",
       "       [-0.07945838,  1.49149811,  1.06222081,  1.3858794 ,  1.1164887 ,\n",
       "         1.34092438],\n",
       "       [-0.57420242,  0.73795152,  0.86539638,  1.52761161,  1.35037684,\n",
       "         1.23716652],\n",
       "       [-0.38546851,  1.10578012,  0.88856745,  1.36903727,  0.94045067,\n",
       "         1.22046053],\n",
       "       [-0.47446558,  0.88689929,  0.96221566,  1.39940298,  0.9683218 ,\n",
       "         1.39680493],\n",
       "       [-0.87087822, -0.07627943,  0.61200559,  1.31365681,  1.1801523 ,\n",
       "         0.7847352 ],\n",
       "       [-0.33224502,  0.98274404,  1.05664742,  1.3759197 ,  1.36025238,\n",
       "         1.49198627],\n",
       "       [-0.6734699 , -0.28016797,  0.56955576,  0.78290367,  0.45150539,\n",
       "         0.93980777],\n",
       "       [-0.31795534,  0.38988939,  0.63460541,  0.86327159,  0.7223711 ,\n",
       "         1.04742813],\n",
       "       [-0.34647289,  1.15198874,  1.09290147,  1.48613679,  0.98118007,\n",
       "         1.43872082],\n",
       "       [-0.48241797,  1.19417417,  0.76042861,  1.41047275,  1.16255474,\n",
       "         1.24947834],\n",
       "       [-0.09450268,  0.91212809,  0.81601822,  1.11095738,  0.82614231,\n",
       "         0.89943141],\n",
       "       [-0.32526591,  0.97879666,  0.81237543,  1.25243187,  0.91431999,\n",
       "         1.01893032],\n",
       "       [-0.62309712,  1.55271852,  0.52267706,  1.58355641,  1.40635121,\n",
       "         1.13247061],\n",
       "       [-0.71952027,  0.41216502,  0.65273166,  1.34854531,  1.06149161,\n",
       "         0.91945481],\n",
       "       [ 0.04634138,  1.351331  ,  1.19127512,  1.30458879,  1.54901946,\n",
       "         1.43478251],\n",
       "       [-0.15591463,  1.58617365,  0.63387775,  1.26401448,  1.30817389,\n",
       "         1.09262288]])"
      ]
     },
     "execution_count": 94,
     "metadata": {},
     "output_type": "execute_result"
    }
   ],
   "source": [
    "y_preds_np"
   ]
  },
  {
   "cell_type": "code",
   "execution_count": 39,
   "metadata": {},
   "outputs": [],
   "source": [
    "y_test_np = df_test[target_columns].values"
   ]
  },
  {
   "cell_type": "code",
   "execution_count": 40,
   "metadata": {},
   "outputs": [
    {
     "data": {
      "text/plain": [
       "array([[1.],\n",
       "       [1.],\n",
       "       [1.],\n",
       "       [1.],\n",
       "       [1.],\n",
       "       [1.],\n",
       "       [1.],\n",
       "       [1.],\n",
       "       [1.],\n",
       "       [1.]])"
      ]
     },
     "execution_count": 40,
     "metadata": {},
     "output_type": "execute_result"
    }
   ],
   "source": [
    "y_test_np[10:]"
   ]
  },
  {
   "cell_type": "code",
   "execution_count": 58,
   "metadata": {
    "collapsed": true
   },
   "outputs": [
    {
     "ename": "ValueError",
     "evalue": "Only one class present in y_true. ROC AUC score is not defined in that case.",
     "output_type": "error",
     "traceback": [
      "\u001b[0;31m---------------------------------------------------------------------------\u001b[0m",
      "\u001b[0;31mValueError\u001b[0m                                Traceback (most recent call last)",
      "\u001b[0;32m<ipython-input-58-68b3641e81d3>\u001b[0m in \u001b[0;36m<module>\u001b[0;34m\u001b[0m\n\u001b[0;32m----> 1\u001b[0;31m \u001b[0mauc_scores\u001b[0m \u001b[0;34m=\u001b[0m \u001b[0mroc_auc_score\u001b[0m\u001b[0;34m(\u001b[0m\u001b[0my_test_np\u001b[0m\u001b[0;34m,\u001b[0m \u001b[0my_preds_np\u001b[0m\u001b[0;34m,\u001b[0m \u001b[0maverage\u001b[0m\u001b[0;34m=\u001b[0m\u001b[0;32mNone\u001b[0m\u001b[0;34m)\u001b[0m\u001b[0;34m\u001b[0m\u001b[0;34m\u001b[0m\u001b[0m\n\u001b[0m\u001b[1;32m      2\u001b[0m \u001b[0mdf_accuracy\u001b[0m \u001b[0;34m=\u001b[0m \u001b[0mpd\u001b[0m\u001b[0;34m.\u001b[0m\u001b[0mDataFrame\u001b[0m\u001b[0;34m(\u001b[0m\u001b[0;34m{\u001b[0m\u001b[0;34m\"label\"\u001b[0m\u001b[0;34m:\u001b[0m \u001b[0mtarget_columns\u001b[0m\u001b[0;34m,\u001b[0m \u001b[0;34m\"auc\"\u001b[0m\u001b[0;34m:\u001b[0m \u001b[0mauc_scores\u001b[0m\u001b[0;34m}\u001b[0m\u001b[0;34m)\u001b[0m\u001b[0;34m\u001b[0m\u001b[0;34m\u001b[0m\u001b[0m\n\u001b[1;32m      3\u001b[0m \u001b[0mdf_accuracy\u001b[0m\u001b[0;34m.\u001b[0m\u001b[0msort_values\u001b[0m\u001b[0;34m(\u001b[0m\u001b[0;34m'auc'\u001b[0m\u001b[0;34m)\u001b[0m\u001b[0;34m[\u001b[0m\u001b[0;34m:\u001b[0m\u001b[0;34m:\u001b[0m\u001b[0;34m-\u001b[0m\u001b[0;36m1\u001b[0m\u001b[0;34m]\u001b[0m\u001b[0;34m\u001b[0m\u001b[0;34m\u001b[0m\u001b[0m\n",
      "\u001b[0;32m~/.local/lib/python3.7/site-packages/sklearn/utils/validation.py\u001b[0m in \u001b[0;36minner_f\u001b[0;34m(*args, **kwargs)\u001b[0m\n\u001b[1;32m     71\u001b[0m                           FutureWarning)\n\u001b[1;32m     72\u001b[0m         \u001b[0mkwargs\u001b[0m\u001b[0;34m.\u001b[0m\u001b[0mupdate\u001b[0m\u001b[0;34m(\u001b[0m\u001b[0;34m{\u001b[0m\u001b[0mk\u001b[0m\u001b[0;34m:\u001b[0m \u001b[0marg\u001b[0m \u001b[0;32mfor\u001b[0m \u001b[0mk\u001b[0m\u001b[0;34m,\u001b[0m \u001b[0marg\u001b[0m \u001b[0;32min\u001b[0m \u001b[0mzip\u001b[0m\u001b[0;34m(\u001b[0m\u001b[0msig\u001b[0m\u001b[0;34m.\u001b[0m\u001b[0mparameters\u001b[0m\u001b[0;34m,\u001b[0m \u001b[0margs\u001b[0m\u001b[0;34m)\u001b[0m\u001b[0;34m}\u001b[0m\u001b[0;34m)\u001b[0m\u001b[0;34m\u001b[0m\u001b[0;34m\u001b[0m\u001b[0m\n\u001b[0;32m---> 73\u001b[0;31m         \u001b[0;32mreturn\u001b[0m \u001b[0mf\u001b[0m\u001b[0;34m(\u001b[0m\u001b[0;34m**\u001b[0m\u001b[0mkwargs\u001b[0m\u001b[0;34m)\u001b[0m\u001b[0;34m\u001b[0m\u001b[0;34m\u001b[0m\u001b[0m\n\u001b[0m\u001b[1;32m     74\u001b[0m     \u001b[0;32mreturn\u001b[0m \u001b[0minner_f\u001b[0m\u001b[0;34m\u001b[0m\u001b[0;34m\u001b[0m\u001b[0m\n\u001b[1;32m     75\u001b[0m \u001b[0;34m\u001b[0m\u001b[0m\n",
      "\u001b[0;32m~/.local/lib/python3.7/site-packages/sklearn/metrics/_ranking.py\u001b[0m in \u001b[0;36mroc_auc_score\u001b[0;34m(y_true, y_score, average, sample_weight, max_fpr, multi_class, labels)\u001b[0m\n\u001b[1;32m    396\u001b[0m                                              max_fpr=max_fpr),\n\u001b[1;32m    397\u001b[0m                                      \u001b[0my_true\u001b[0m\u001b[0;34m,\u001b[0m \u001b[0my_score\u001b[0m\u001b[0;34m,\u001b[0m \u001b[0maverage\u001b[0m\u001b[0;34m,\u001b[0m\u001b[0;34m\u001b[0m\u001b[0;34m\u001b[0m\u001b[0m\n\u001b[0;32m--> 398\u001b[0;31m                                      sample_weight=sample_weight)\n\u001b[0m\u001b[1;32m    399\u001b[0m \u001b[0;34m\u001b[0m\u001b[0m\n\u001b[1;32m    400\u001b[0m \u001b[0;34m\u001b[0m\u001b[0m\n",
      "\u001b[0;32m~/.local/lib/python3.7/site-packages/sklearn/metrics/_base.py\u001b[0m in \u001b[0;36m_average_binary_score\u001b[0;34m(binary_metric, y_true, y_score, average, sample_weight)\u001b[0m\n\u001b[1;32m    118\u001b[0m         \u001b[0my_score_c\u001b[0m \u001b[0;34m=\u001b[0m \u001b[0my_score\u001b[0m\u001b[0;34m.\u001b[0m\u001b[0mtake\u001b[0m\u001b[0;34m(\u001b[0m\u001b[0;34m[\u001b[0m\u001b[0mc\u001b[0m\u001b[0;34m]\u001b[0m\u001b[0;34m,\u001b[0m \u001b[0maxis\u001b[0m\u001b[0;34m=\u001b[0m\u001b[0mnot_average_axis\u001b[0m\u001b[0;34m)\u001b[0m\u001b[0;34m.\u001b[0m\u001b[0mravel\u001b[0m\u001b[0;34m(\u001b[0m\u001b[0;34m)\u001b[0m\u001b[0;34m\u001b[0m\u001b[0;34m\u001b[0m\u001b[0m\n\u001b[1;32m    119\u001b[0m         score[c] = binary_metric(y_true_c, y_score_c,\n\u001b[0;32m--> 120\u001b[0;31m                                  sample_weight=score_weight)\n\u001b[0m\u001b[1;32m    121\u001b[0m \u001b[0;34m\u001b[0m\u001b[0m\n\u001b[1;32m    122\u001b[0m     \u001b[0;31m# Average the results\u001b[0m\u001b[0;34m\u001b[0m\u001b[0;34m\u001b[0m\u001b[0;34m\u001b[0m\u001b[0m\n",
      "\u001b[0;32m~/.local/lib/python3.7/site-packages/sklearn/metrics/_ranking.py\u001b[0m in \u001b[0;36m_binary_roc_auc_score\u001b[0;34m(y_true, y_score, sample_weight, max_fpr)\u001b[0m\n\u001b[1;32m    221\u001b[0m     \u001b[0;34m\"\"\"Binary roc auc score\"\"\"\u001b[0m\u001b[0;34m\u001b[0m\u001b[0;34m\u001b[0m\u001b[0m\n\u001b[1;32m    222\u001b[0m     \u001b[0;32mif\u001b[0m \u001b[0mlen\u001b[0m\u001b[0;34m(\u001b[0m\u001b[0mnp\u001b[0m\u001b[0;34m.\u001b[0m\u001b[0munique\u001b[0m\u001b[0;34m(\u001b[0m\u001b[0my_true\u001b[0m\u001b[0;34m)\u001b[0m\u001b[0;34m)\u001b[0m \u001b[0;34m!=\u001b[0m \u001b[0;36m2\u001b[0m\u001b[0;34m:\u001b[0m\u001b[0;34m\u001b[0m\u001b[0;34m\u001b[0m\u001b[0m\n\u001b[0;32m--> 223\u001b[0;31m         raise ValueError(\"Only one class present in y_true. ROC AUC score \"\n\u001b[0m\u001b[1;32m    224\u001b[0m                          \"is not defined in that case.\")\n\u001b[1;32m    225\u001b[0m \u001b[0;34m\u001b[0m\u001b[0m\n",
      "\u001b[0;31mValueError\u001b[0m: Only one class present in y_true. ROC AUC score is not defined in that case."
     ]
    }
   ],
   "source": [
    "auc_scores = roc_auc_score(y_test_np, y_preds_np, average=None)\n",
    "df_accuracy = pd.DataFrame({\"label\": target_columns, \"auc\": auc_scores})\n",
    "df_accuracy.sort_values('auc')[::-1]"
   ]
  },
  {
   "cell_type": "code",
   "execution_count": 59,
   "metadata": {},
   "outputs": [
    {
     "data": {
      "text/plain": [
       "22"
      ]
     },
     "execution_count": 59,
     "metadata": {},
     "output_type": "execute_result"
    }
   ],
   "source": [
    "positive_labels = df_train[target_columns].sum().sum()\n",
    "positive_labels"
   ]
  },
  {
   "cell_type": "code",
   "execution_count": 60,
   "metadata": {},
   "outputs": [
    {
     "data": {
      "text/plain": [
       "600"
      ]
     },
     "execution_count": 60,
     "metadata": {},
     "output_type": "execute_result"
    }
   ],
   "source": [
    "all_labels = df_train[target_columns].count().sum()\n",
    "all_labels"
   ]
  },
  {
   "cell_type": "code",
   "execution_count": 61,
   "metadata": {},
   "outputs": [
    {
     "data": {
      "text/plain": [
       "0.03666666666666667"
      ]
     },
     "execution_count": 61,
     "metadata": {},
     "output_type": "execute_result"
    }
   ],
   "source": [
    "positive_labels/all_labels"
   ]
  },
  {
   "cell_type": "code",
   "execution_count": 63,
   "metadata": {},
   "outputs": [],
   "source": [
    "df_test_targets = df_test[target_columns]\n",
    "df_pred_targets = pd.DataFrame(y_preds_np.round(), columns=target_columns, dtype=int)\n",
    "df_sanity = df_test_targets.join(df_pred_targets, how='inner', rsuffix='_pred')"
   ]
  },
  {
   "cell_type": "code",
   "execution_count": 64,
   "metadata": {
    "collapsed": true
   },
   "outputs": [
    {
     "data": {
      "text/html": [
       "<div>\n",
       "<style scoped>\n",
       "    .dataframe tbody tr th:only-of-type {\n",
       "        vertical-align: middle;\n",
       "    }\n",
       "\n",
       "    .dataframe tbody tr th {\n",
       "        vertical-align: top;\n",
       "    }\n",
       "\n",
       "    .dataframe thead th {\n",
       "        text-align: right;\n",
       "    }\n",
       "</style>\n",
       "<table border=\"1\" class=\"dataframe\">\n",
       "  <thead>\n",
       "    <tr style=\"text-align: right;\">\n",
       "      <th></th>\n",
       "      <th>toxic</th>\n",
       "      <th>severe_toxic</th>\n",
       "      <th>obscene</th>\n",
       "      <th>threat</th>\n",
       "      <th>insult</th>\n",
       "      <th>identity_hate</th>\n",
       "      <th>toxic_pred</th>\n",
       "      <th>severe_toxic_pred</th>\n",
       "      <th>obscene_pred</th>\n",
       "      <th>threat_pred</th>\n",
       "      <th>insult_pred</th>\n",
       "      <th>identity_hate_pred</th>\n",
       "    </tr>\n",
       "  </thead>\n",
       "  <tbody>\n",
       "    <tr>\n",
       "      <th>0</th>\n",
       "      <td>0</td>\n",
       "      <td>0</td>\n",
       "      <td>0</td>\n",
       "      <td>0</td>\n",
       "      <td>0</td>\n",
       "      <td>0</td>\n",
       "      <td>0</td>\n",
       "      <td>0</td>\n",
       "      <td>0</td>\n",
       "      <td>0</td>\n",
       "      <td>0</td>\n",
       "      <td>0</td>\n",
       "    </tr>\n",
       "    <tr>\n",
       "      <th>1</th>\n",
       "      <td>0</td>\n",
       "      <td>0</td>\n",
       "      <td>0</td>\n",
       "      <td>0</td>\n",
       "      <td>0</td>\n",
       "      <td>0</td>\n",
       "      <td>0</td>\n",
       "      <td>0</td>\n",
       "      <td>0</td>\n",
       "      <td>0</td>\n",
       "      <td>0</td>\n",
       "      <td>0</td>\n",
       "    </tr>\n",
       "    <tr>\n",
       "      <th>2</th>\n",
       "      <td>0</td>\n",
       "      <td>0</td>\n",
       "      <td>0</td>\n",
       "      <td>0</td>\n",
       "      <td>0</td>\n",
       "      <td>0</td>\n",
       "      <td>0</td>\n",
       "      <td>0</td>\n",
       "      <td>0</td>\n",
       "      <td>0</td>\n",
       "      <td>0</td>\n",
       "      <td>0</td>\n",
       "    </tr>\n",
       "    <tr>\n",
       "      <th>3</th>\n",
       "      <td>0</td>\n",
       "      <td>0</td>\n",
       "      <td>0</td>\n",
       "      <td>0</td>\n",
       "      <td>0</td>\n",
       "      <td>0</td>\n",
       "      <td>0</td>\n",
       "      <td>0</td>\n",
       "      <td>0</td>\n",
       "      <td>0</td>\n",
       "      <td>0</td>\n",
       "      <td>0</td>\n",
       "    </tr>\n",
       "    <tr>\n",
       "      <th>4</th>\n",
       "      <td>0</td>\n",
       "      <td>0</td>\n",
       "      <td>0</td>\n",
       "      <td>0</td>\n",
       "      <td>0</td>\n",
       "      <td>0</td>\n",
       "      <td>0</td>\n",
       "      <td>0</td>\n",
       "      <td>0</td>\n",
       "      <td>0</td>\n",
       "      <td>0</td>\n",
       "      <td>0</td>\n",
       "    </tr>\n",
       "    <tr>\n",
       "      <th>5</th>\n",
       "      <td>0</td>\n",
       "      <td>0</td>\n",
       "      <td>0</td>\n",
       "      <td>0</td>\n",
       "      <td>0</td>\n",
       "      <td>0</td>\n",
       "      <td>0</td>\n",
       "      <td>0</td>\n",
       "      <td>0</td>\n",
       "      <td>0</td>\n",
       "      <td>0</td>\n",
       "      <td>0</td>\n",
       "    </tr>\n",
       "    <tr>\n",
       "      <th>6</th>\n",
       "      <td>0</td>\n",
       "      <td>0</td>\n",
       "      <td>0</td>\n",
       "      <td>0</td>\n",
       "      <td>0</td>\n",
       "      <td>0</td>\n",
       "      <td>0</td>\n",
       "      <td>0</td>\n",
       "      <td>0</td>\n",
       "      <td>0</td>\n",
       "      <td>0</td>\n",
       "      <td>0</td>\n",
       "    </tr>\n",
       "    <tr>\n",
       "      <th>7</th>\n",
       "      <td>1</td>\n",
       "      <td>0</td>\n",
       "      <td>1</td>\n",
       "      <td>0</td>\n",
       "      <td>1</td>\n",
       "      <td>0</td>\n",
       "      <td>0</td>\n",
       "      <td>0</td>\n",
       "      <td>0</td>\n",
       "      <td>0</td>\n",
       "      <td>0</td>\n",
       "      <td>0</td>\n",
       "    </tr>\n",
       "    <tr>\n",
       "      <th>8</th>\n",
       "      <td>0</td>\n",
       "      <td>0</td>\n",
       "      <td>0</td>\n",
       "      <td>0</td>\n",
       "      <td>0</td>\n",
       "      <td>0</td>\n",
       "      <td>0</td>\n",
       "      <td>0</td>\n",
       "      <td>0</td>\n",
       "      <td>0</td>\n",
       "      <td>0</td>\n",
       "      <td>0</td>\n",
       "    </tr>\n",
       "    <tr>\n",
       "      <th>9</th>\n",
       "      <td>0</td>\n",
       "      <td>0</td>\n",
       "      <td>0</td>\n",
       "      <td>0</td>\n",
       "      <td>0</td>\n",
       "      <td>0</td>\n",
       "      <td>0</td>\n",
       "      <td>0</td>\n",
       "      <td>0</td>\n",
       "      <td>0</td>\n",
       "      <td>0</td>\n",
       "      <td>0</td>\n",
       "    </tr>\n",
       "    <tr>\n",
       "      <th>10</th>\n",
       "      <td>0</td>\n",
       "      <td>0</td>\n",
       "      <td>0</td>\n",
       "      <td>0</td>\n",
       "      <td>0</td>\n",
       "      <td>0</td>\n",
       "      <td>0</td>\n",
       "      <td>0</td>\n",
       "      <td>0</td>\n",
       "      <td>0</td>\n",
       "      <td>0</td>\n",
       "      <td>0</td>\n",
       "    </tr>\n",
       "    <tr>\n",
       "      <th>11</th>\n",
       "      <td>0</td>\n",
       "      <td>0</td>\n",
       "      <td>0</td>\n",
       "      <td>0</td>\n",
       "      <td>0</td>\n",
       "      <td>0</td>\n",
       "      <td>0</td>\n",
       "      <td>0</td>\n",
       "      <td>0</td>\n",
       "      <td>0</td>\n",
       "      <td>0</td>\n",
       "      <td>0</td>\n",
       "    </tr>\n",
       "    <tr>\n",
       "      <th>12</th>\n",
       "      <td>0</td>\n",
       "      <td>0</td>\n",
       "      <td>0</td>\n",
       "      <td>0</td>\n",
       "      <td>0</td>\n",
       "      <td>0</td>\n",
       "      <td>0</td>\n",
       "      <td>0</td>\n",
       "      <td>0</td>\n",
       "      <td>0</td>\n",
       "      <td>0</td>\n",
       "      <td>0</td>\n",
       "    </tr>\n",
       "    <tr>\n",
       "      <th>13</th>\n",
       "      <td>0</td>\n",
       "      <td>0</td>\n",
       "      <td>0</td>\n",
       "      <td>0</td>\n",
       "      <td>0</td>\n",
       "      <td>0</td>\n",
       "      <td>0</td>\n",
       "      <td>0</td>\n",
       "      <td>0</td>\n",
       "      <td>0</td>\n",
       "      <td>0</td>\n",
       "      <td>0</td>\n",
       "    </tr>\n",
       "    <tr>\n",
       "      <th>14</th>\n",
       "      <td>0</td>\n",
       "      <td>0</td>\n",
       "      <td>0</td>\n",
       "      <td>0</td>\n",
       "      <td>0</td>\n",
       "      <td>0</td>\n",
       "      <td>0</td>\n",
       "      <td>0</td>\n",
       "      <td>0</td>\n",
       "      <td>0</td>\n",
       "      <td>0</td>\n",
       "      <td>0</td>\n",
       "    </tr>\n",
       "    <tr>\n",
       "      <th>15</th>\n",
       "      <td>0</td>\n",
       "      <td>0</td>\n",
       "      <td>0</td>\n",
       "      <td>0</td>\n",
       "      <td>0</td>\n",
       "      <td>0</td>\n",
       "      <td>0</td>\n",
       "      <td>0</td>\n",
       "      <td>0</td>\n",
       "      <td>0</td>\n",
       "      <td>0</td>\n",
       "      <td>0</td>\n",
       "    </tr>\n",
       "    <tr>\n",
       "      <th>16</th>\n",
       "      <td>0</td>\n",
       "      <td>0</td>\n",
       "      <td>0</td>\n",
       "      <td>0</td>\n",
       "      <td>0</td>\n",
       "      <td>0</td>\n",
       "      <td>0</td>\n",
       "      <td>0</td>\n",
       "      <td>0</td>\n",
       "      <td>0</td>\n",
       "      <td>0</td>\n",
       "      <td>0</td>\n",
       "    </tr>\n",
       "    <tr>\n",
       "      <th>17</th>\n",
       "      <td>1</td>\n",
       "      <td>0</td>\n",
       "      <td>1</td>\n",
       "      <td>0</td>\n",
       "      <td>0</td>\n",
       "      <td>0</td>\n",
       "      <td>0</td>\n",
       "      <td>0</td>\n",
       "      <td>0</td>\n",
       "      <td>0</td>\n",
       "      <td>0</td>\n",
       "      <td>0</td>\n",
       "    </tr>\n",
       "    <tr>\n",
       "      <th>18</th>\n",
       "      <td>0</td>\n",
       "      <td>0</td>\n",
       "      <td>0</td>\n",
       "      <td>0</td>\n",
       "      <td>0</td>\n",
       "      <td>0</td>\n",
       "      <td>0</td>\n",
       "      <td>0</td>\n",
       "      <td>0</td>\n",
       "      <td>0</td>\n",
       "      <td>0</td>\n",
       "      <td>0</td>\n",
       "    </tr>\n",
       "    <tr>\n",
       "      <th>19</th>\n",
       "      <td>0</td>\n",
       "      <td>0</td>\n",
       "      <td>0</td>\n",
       "      <td>0</td>\n",
       "      <td>0</td>\n",
       "      <td>0</td>\n",
       "      <td>0</td>\n",
       "      <td>0</td>\n",
       "      <td>0</td>\n",
       "      <td>0</td>\n",
       "      <td>0</td>\n",
       "      <td>0</td>\n",
       "    </tr>\n",
       "  </tbody>\n",
       "</table>\n",
       "</div>"
      ],
      "text/plain": [
       "    toxic  severe_toxic  obscene  threat  insult  identity_hate  toxic_pred  \\\n",
       "0       0             0        0       0       0              0           0   \n",
       "1       0             0        0       0       0              0           0   \n",
       "2       0             0        0       0       0              0           0   \n",
       "3       0             0        0       0       0              0           0   \n",
       "4       0             0        0       0       0              0           0   \n",
       "5       0             0        0       0       0              0           0   \n",
       "6       0             0        0       0       0              0           0   \n",
       "7       1             0        1       0       1              0           0   \n",
       "8       0             0        0       0       0              0           0   \n",
       "9       0             0        0       0       0              0           0   \n",
       "10      0             0        0       0       0              0           0   \n",
       "11      0             0        0       0       0              0           0   \n",
       "12      0             0        0       0       0              0           0   \n",
       "13      0             0        0       0       0              0           0   \n",
       "14      0             0        0       0       0              0           0   \n",
       "15      0             0        0       0       0              0           0   \n",
       "16      0             0        0       0       0              0           0   \n",
       "17      1             0        1       0       0              0           0   \n",
       "18      0             0        0       0       0              0           0   \n",
       "19      0             0        0       0       0              0           0   \n",
       "\n",
       "    severe_toxic_pred  obscene_pred  threat_pred  insult_pred  \\\n",
       "0                   0             0            0            0   \n",
       "1                   0             0            0            0   \n",
       "2                   0             0            0            0   \n",
       "3                   0             0            0            0   \n",
       "4                   0             0            0            0   \n",
       "5                   0             0            0            0   \n",
       "6                   0             0            0            0   \n",
       "7                   0             0            0            0   \n",
       "8                   0             0            0            0   \n",
       "9                   0             0            0            0   \n",
       "10                  0             0            0            0   \n",
       "11                  0             0            0            0   \n",
       "12                  0             0            0            0   \n",
       "13                  0             0            0            0   \n",
       "14                  0             0            0            0   \n",
       "15                  0             0            0            0   \n",
       "16                  0             0            0            0   \n",
       "17                  0             0            0            0   \n",
       "18                  0             0            0            0   \n",
       "19                  0             0            0            0   \n",
       "\n",
       "    identity_hate_pred  \n",
       "0                    0  \n",
       "1                    0  \n",
       "2                    0  \n",
       "3                    0  \n",
       "4                    0  \n",
       "5                    0  \n",
       "6                    0  \n",
       "7                    0  \n",
       "8                    0  \n",
       "9                    0  \n",
       "10                   0  \n",
       "11                   0  \n",
       "12                   0  \n",
       "13                   0  \n",
       "14                   0  \n",
       "15                   0  \n",
       "16                   0  \n",
       "17                   0  \n",
       "18                   0  \n",
       "19                   0  "
      ]
     },
     "execution_count": 64,
     "metadata": {},
     "output_type": "execute_result"
    }
   ],
   "source": [
    "df_sanity"
   ]
  },
  {
   "cell_type": "code",
   "execution_count": 65,
   "metadata": {},
   "outputs": [
    {
     "data": {
      "text/plain": [
       "toxic            2\n",
       "severe_toxic     0\n",
       "obscene          2\n",
       "threat           0\n",
       "insult           1\n",
       "identity_hate    0\n",
       "dtype: int64"
      ]
     },
     "execution_count": 65,
     "metadata": {},
     "output_type": "execute_result"
    }
   ],
   "source": [
    "df_test_targets.sum()"
   ]
  },
  {
   "cell_type": "code",
   "execution_count": 66,
   "metadata": {},
   "outputs": [
    {
     "data": {
      "text/plain": [
       "toxic            0\n",
       "severe_toxic     0\n",
       "obscene          0\n",
       "threat           0\n",
       "insult           0\n",
       "identity_hate    0\n",
       "dtype: int64"
      ]
     },
     "execution_count": 66,
     "metadata": {},
     "output_type": "execute_result"
    }
   ],
   "source": [
    "df_pred_targets.sum()"
   ]
  },
  {
   "cell_type": "code",
   "execution_count": 67,
   "metadata": {},
   "outputs": [
    {
     "data": {
      "text/html": [
       "<div>\n",
       "<style scoped>\n",
       "    .dataframe tbody tr th:only-of-type {\n",
       "        vertical-align: middle;\n",
       "    }\n",
       "\n",
       "    .dataframe tbody tr th {\n",
       "        vertical-align: top;\n",
       "    }\n",
       "\n",
       "    .dataframe thead th {\n",
       "        text-align: right;\n",
       "    }\n",
       "</style>\n",
       "<table border=\"1\" class=\"dataframe\">\n",
       "  <thead>\n",
       "    <tr style=\"text-align: right;\">\n",
       "      <th></th>\n",
       "      <th>toxic</th>\n",
       "      <th>toxic_pred</th>\n",
       "    </tr>\n",
       "  </thead>\n",
       "  <tbody>\n",
       "    <tr>\n",
       "      <th>7</th>\n",
       "      <td>1</td>\n",
       "      <td>0</td>\n",
       "    </tr>\n",
       "    <tr>\n",
       "      <th>17</th>\n",
       "      <td>1</td>\n",
       "      <td>0</td>\n",
       "    </tr>\n",
       "  </tbody>\n",
       "</table>\n",
       "</div>"
      ],
      "text/plain": [
       "    toxic  toxic_pred\n",
       "7       1           0\n",
       "17      1           0"
      ]
     },
     "execution_count": 67,
     "metadata": {},
     "output_type": "execute_result"
    }
   ],
   "source": [
    "df_sanity[df_sanity.toxic > 0][['toxic', 'toxic_pred']]"
   ]
  },
  {
   "cell_type": "code",
   "execution_count": null,
   "metadata": {},
   "outputs": [],
   "source": []
  },
  {
   "cell_type": "code",
   "execution_count": null,
   "metadata": {},
   "outputs": [],
   "source": []
  },
  {
   "cell_type": "markdown",
   "metadata": {},
   "source": [
    "## leftovers"
   ]
  },
  {
   "cell_type": "code",
   "execution_count": 160,
   "metadata": {},
   "outputs": [],
   "source": [
    "# ALTERNATIVE\n",
    "class KimCNN(nn.Module):\n",
    "    \n",
    "    def __init__(self, embed_num, embed_dim, class_num, kernel_num, kernel_sizes, dropout, static):\n",
    "        super(KimCNN, self).__init__()\n",
    "\n",
    "        V = embed_num\n",
    "        D = embed_dim\n",
    "        C = class_num\n",
    "        Co = kernel_num\n",
    "        Ks = kernel_sizes\n",
    "        \n",
    "        Ci = 1\n",
    "\n",
    "        self.static = static\n",
    "        self.embed = nn.Embedding(V, D)\n",
    "        self.convs = nn.ModuleList([nn.Conv2d(Ci, Co, (K, D)) for K in Ks])\n",
    "        self.dropout = nn.Dropout(dropout)\n",
    "        self.fc1 = nn.Linear(len(Ks) * Co, C)\n",
    "\n",
    "        if self.static:\n",
    "            self.embed.weight.requires_grad = False\n",
    "\n",
    "    def forward(self, x):\n",
    "        x = self.embed(x)  # (N, W, D)\n",
    "        x = x.unsqueeze(1)  # (N, Ci, W, D)\n",
    "        x = [F.relu(conv(x)).squeeze(3) for conv in self.convs]  # [(N, Co, W), ...]*len(Ks)\n",
    "        x = [F.max_pool1d(i, i.size(2)).squeeze(2) for i in x]  # [(N, Co), ...]*len(Ks)\n",
    "        x = torch.cat(x, 1)\n",
    "        x = self.dropout(x)  # (N, len(Ks)*Co)\n",
    "        logit = self.fc1(x)  # (N, C)\n",
    "        return logit\n",
    "    \n",
    "import torch\n",
    "import torch.nn as nn\n",
    "import torch.nn.functional as F\n",
    "\n",
    "#ALTERNATIVE 2\n",
    "class KimCNN(nn.Module):\n",
    "    def __init__(self, vocab_size, embedding_dim, n_filters, filter_sizes, output_dim,\n",
    "                 dropout, pad_idx):\n",
    "        super().__init__()\n",
    "\n",
    "        self.embedding = nn.Embedding(vocab_size, embedding_dim)\n",
    "\n",
    "        # The in_channels argument is the number of \"channels\" in your image going into the convolutional layer.\n",
    "        # In actual images this is usually 3 (one channel for each of the red, blue and green channels),\n",
    "        # however when using text we only have a single channel, t\n",
    "        # he text itself. The out_channels is the number of filters and the kernel_size is the size of the filters.\n",
    "        # Each of our kernel_sizes is going to be [n x emb_dim] where $n$ is the size of the n-grams.\n",
    "\n",
    "        self.convs = nn.ModuleList([\n",
    "            nn.Conv2d(in_channels=1,\n",
    "                      out_channels=n_filters,\n",
    "                      kernel_size=(fs, embedding_dim))\n",
    "            for fs in filter_sizes\n",
    "        ])\n",
    "\n",
    "        self.fc = nn.Linear(len(filter_sizes) * n_filters, output_dim)\n",
    "\n",
    "        self.dropout = nn.Dropout(dropout)\n",
    "\n",
    "    def forward(self, text):\n",
    "        embedded = self.embedding(text)\n",
    "\n",
    "        # embedded = [batch size, sent len, emb dim]\n",
    "\n",
    "        # In PyTorch, RNNs want the input with the batch dimension second, whereas CNNs want the batch dimension first\n",
    "        # - we do not have to permute the data here as we have already set batch_first = True in our TEXT field.\n",
    "        # We then pass the sentence through an embedding layer to get our embeddings.\n",
    "        # The second dimension of the input into a nn. Conv2d layer must be the channel dimension.\n",
    "        # As text technically does not have a channel dimension,\n",
    "        # we unsqueeze our tensor to create one.\n",
    "        # This matches with our in_channels=1 in the initialization of our convolutional layers.\n",
    "\n",
    "        embedded = embedded.unsqueeze(1)\n",
    "\n",
    "        # embedded = [batch size, 1, sent len, emb dim]\n",
    "\n",
    "        conved = [F.relu(conv(embedded)).squeeze(3) for conv in self.convs]\n",
    "\n",
    "        # conved_n = [batch size, n_filters, sent len - filter_sizes[n] + 1]\n",
    "\n",
    "        pooled = [F.max_pool1d(conv, conv.shape[2]).squeeze(2) for conv in conved]\n",
    "\n",
    "        # pooled_n = [batch size, n_filters]\n",
    "\n",
    "        cat = self.dropout(torch.cat(pooled, dim=1))\n",
    "\n",
    "        # cat = [batch size, n_filters * len(filter_sizes)]\n",
    "\n",
    "        return self.fc(cat)\n",
    "\n",
    "    def predict_class(self, sentence, nlp, dataset, device, min_len=4):\n",
    "        self.eval()\n",
    "        tokenized = [tok.text for tok in nlp.tokenizer(sentence)]\n",
    "        if len(tokenized) < min_len:\n",
    "            tokenized += ['<pad>'] * (min_len - len(tokenized))\n",
    "        indexed = [dataset.TEXT.vocab.stoi[t] for t in tokenized]\n",
    "        tensor = torch.LongTensor(indexed).to(device)\n",
    "        tensor = tensor.unsqueeze(1)\n",
    "        tensor = tensor.permute(1, 0)\n",
    "        preds = self(tensor)\n",
    "        max_preds = preds.argmax(dim=1)\n",
    "\n",
    "        return max_preds.item()\n",
    "\n",
    "    @staticmethod\n",
    "    def __count_parameters(model):\n",
    "        return sum(p.numel() for p in model.parameters() if p.requires_grad)"
   ]
  },
  {
   "cell_type": "code",
   "execution_count": null,
   "metadata": {},
   "outputs": [],
   "source": []
  }
 ],
 "metadata": {
  "kernelspec": {
   "display_name": "Python 3",
   "language": "python",
   "name": "python3"
  },
  "language_info": {
   "codemirror_mode": {
    "name": "ipython",
    "version": 3
   },
   "file_extension": ".py",
   "mimetype": "text/x-python",
   "name": "python",
   "nbconvert_exporter": "python",
   "pygments_lexer": "ipython3",
   "version": "3.7.7"
  },
  "toc": {
   "base_numbering": 1,
   "nav_menu": {},
   "number_sections": true,
   "sideBar": true,
   "skip_h1_title": true,
   "title_cell": "Table of Contents",
   "title_sidebar": "Contents",
   "toc_cell": false,
   "toc_position": {},
   "toc_section_display": true,
   "toc_window_display": false
  }
 },
 "nbformat": 4,
 "nbformat_minor": 4
}
