{
 "cells": [
  {
   "cell_type": "markdown",
   "metadata": {},
   "source": [
    "TODOS:<br>\n",
    "\n",
    "- Übersicht über alle Verfahren geben in kapitel 3 (Tabelle?!)\n",
    "- überprüfen Formulierung\n",
    "- untertitel der grafik bei LSA in pdf überprüfen\n",
    "\n",
    "\n",
    "für generierung:\n",
    "- toc entfernen?\n",
    "-  tabelle anpassen in 3.1\n",
    "- alle %%time entfernen!\n",
    "- imports entfernen\n",
    "- alle code zeilen gut angezeigt?\n",
    "- Fußnoten fixen"
   ]
  },
  {
   "cell_type": "markdown",
   "metadata": {
    "toc": true
   },
   "source": [
    "<h1>Inhaltsverzeichnis<span class=\"tocSkip\"></span></h1>\n",
    "<div class=\"toc\"><ul class=\"toc-item\"><li><span><a href=\"#Einführung\" data-toc-modified-id=\"Einführung-1\"><span class=\"toc-item-num\">1&nbsp;&nbsp;</span>Einführung</a></span><ul class=\"toc-item\"><li><span><a href=\"#Das-Bag-of-Words-Modell\" data-toc-modified-id=\"Das-Bag-of-Words-Modell-1.1\"><span class=\"toc-item-num\">1.1&nbsp;&nbsp;</span>Das Bag-of-Words Modell</a></span></li><li><span><a href=\"#Grenzen-des-Bag-of-Words-Modells\" data-toc-modified-id=\"Grenzen-des-Bag-of-Words-Modells-1.2\"><span class=\"toc-item-num\">1.2&nbsp;&nbsp;</span>Grenzen des Bag-of-Words Modells</a></span></li></ul></li><li><span><a href=\"#LSA\" data-toc-modified-id=\"LSA-2\"><span class=\"toc-item-num\">2&nbsp;&nbsp;</span>LSA</a></span></li><li><span><a href=\"#Word-Embeddings\" data-toc-modified-id=\"Word-Embeddings-3\"><span class=\"toc-item-num\">3&nbsp;&nbsp;</span>Word Embeddings</a></span><ul class=\"toc-item\"><li><span><a href=\"#Allgemeines\" data-toc-modified-id=\"Allgemeines-3.1\"><span class=\"toc-item-num\">3.1&nbsp;&nbsp;</span>Allgemeines</a></span></li><li><span><a href=\"#Word2Vec\" data-toc-modified-id=\"Word2Vec-3.2\"><span class=\"toc-item-num\">3.2&nbsp;&nbsp;</span>Word2Vec</a></span><ul class=\"toc-item\"><li><span><a href=\"#Vortrainierte-Embeddings-verwenden\" data-toc-modified-id=\"Vortrainierte-Embeddings-verwenden-3.2.1\"><span class=\"toc-item-num\">3.2.1&nbsp;&nbsp;</span>Vortrainierte Embeddings verwenden</a></span></li><li><span><a href=\"#Eigene-Embeddings-trainieren\" data-toc-modified-id=\"Eigene-Embeddings-trainieren-3.2.2\"><span class=\"toc-item-num\">3.2.2&nbsp;&nbsp;</span>Eigene Embeddings trainieren</a></span></li></ul></li><li><span><a href=\"#GloVe\" data-toc-modified-id=\"GloVe-3.3\"><span class=\"toc-item-num\">3.3&nbsp;&nbsp;</span>GloVe</a></span></li><li><span><a href=\"#FastText\" data-toc-modified-id=\"FastText-3.4\"><span class=\"toc-item-num\">3.4&nbsp;&nbsp;</span>FastText</a></span></li><li><span><a href=\"#ELMo\" data-toc-modified-id=\"ELMo-3.5\"><span class=\"toc-item-num\">3.5&nbsp;&nbsp;</span>ELMo</a></span></li><li><span><a href=\"#BERT\" data-toc-modified-id=\"BERT-3.6\"><span class=\"toc-item-num\">3.6&nbsp;&nbsp;</span>BERT</a></span></li></ul></li></ul></div>"
   ]
  },
  {
   "cell_type": "code",
   "execution_count": 32,
   "metadata": {},
   "outputs": [],
   "source": [
    "from flair.data import Sentence\n",
    "from flair.embeddings import WordEmbeddings\n",
    "\n",
    "import gensim\n",
    "from gensim.models import Word2Vec\n",
    "import gensim.downloader as gensim_downloader\n",
    "\n",
    "import matplotlib.pyplot as plt\n",
    "#%matplotlib inline\n",
    "#%config InlineBackend.figure_format = 'svg'\n",
    "from nltk import word_tokenize\n",
    "import numpy as np\n",
    "import pandas as pd\n",
    "from sklearn.feature_extraction.text import CountVectorizer\n",
    "import urllib.request\n",
    "\n",
    "from utils import preprocess_text, plot_word_embeddings"
   ]
  },
  {
   "cell_type": "code",
   "execution_count": null,
   "metadata": {},
   "outputs": [],
   "source": [
    "# TODO: weg\n",
    "\"\"\"\n",
    "text_w2v = [\"das kind sagt, dass es feuerwehrmann sein möchte\",\n",
    "            \"der erwachsene sagt, dass er lieber kein feuerwehrmann sein möchte\",\n",
    "            \"das kind fragt, was der erwachsene denn lieber sein möchte\",\n",
    "            \"der erwachsene sagt, dass er lieber polizist sein möchte\"]\n",
    "#text_w2v = [word_tokenize(sen) for sen in text_w2v]\n",
    "df = pd.DataFrame(text_w2v, columns = [\"text\"])\n",
    "\n",
    "url = 'http://cloud.devmount.de/d2bc5672c523b086/german.model'\n",
    "urllib.request.urlretrieve(url, \"german_model.bin\")\n",
    "\"\"\""
   ]
  },
  {
   "cell_type": "code",
   "execution_count": 7,
   "metadata": {},
   "outputs": [
    {
     "name": "stdout",
     "output_type": "stream",
     "text": [
      "CPU times: user 1min 1s, sys: 1.14 s, total: 1min 2s\n",
      "Wall time: 1min 2s\n"
     ]
    }
   ],
   "source": [
    "%%time\n",
    "corpus = pd.read_csv(\"../corpora/small_amazon_reviews_electronic.csv\")\n",
    "corpus[\"review\"] = corpus.review.apply(lambda x: preprocess_text(x))\n",
    "texts = [word_tokenize(row[\"review\"]) for idx, row in corpus.iterrows()]"
   ]
  },
  {
   "cell_type": "code",
   "execution_count": null,
   "metadata": {},
   "outputs": [],
   "source": []
  },
  {
   "cell_type": "markdown",
   "metadata": {},
   "source": [
    "# Einführung"
   ]
  },
  {
   "cell_type": "markdown",
   "metadata": {},
   "source": [
    "Das **Natural Language Processing** (kurz: NLP) befasst sich mit Methoden und Verfahren zur maschinellen Verarbeitung von natürlicher Sprache in Form von Worten, Texten oder ganzen Korpora. Bevor jedoch NLP Verfahren wie die Textklassifikation oder das Topic Modelling auf die Textdaten angewendet werden können, müssen diese in eine Darstellungsweise umgewandelt werden, mit der die Verfahren arbeiten können. Die rohen Textdaten werden daher in **Vektoren**, die aus Zahlen bestehen, umgewandelt. Dieser Vorgang nennt sich **Vektorisierung**. Ein Wort wie \"Baum\" kann dadurch als Vektor aufgefasst werden. Natürlich können auch andere Features aus den Texten als Vektoren dargestellt werden; so ist es auch möglich, einzelne Buchstaben, Phrasen, Sätze, Segmente oder ganze Texte als Features aus den Textdaten zu extrahieren und diese zu vektorisieren. In der folgenden Übersicht werden jedoch vorwiegend Wörter als Features verwendet."
   ]
  },
  {
   "cell_type": "markdown",
   "metadata": {},
   "source": [
    "## Das Bag-of-Words Modell\n",
    "\n",
    "Das wohl einfachste Verfahren zur Darstellung von Wörtern als Vektoren ist das **Bag-of-Words** Modell. Wörter werden hier als eindimensionale Vektoren (= einfache Zahlen) dargestellt, wobei jedes individuelle Wort einen individuellen eindimensionalen Vektor (auch: **Index**) zugeordnet bekommt. Die Zuordnungen jedes einzigartigen Wortes zu seinem Vektor werden in einem *Vokabular* gespeichert. Nun können mithilfe dieses Vokabulars auch ganze Sätze oder sogar Texte dargestellt werden. Dafür wird für jeden Satz/Text ein Vektor gebildet, der die gleiche Länge wie das Vokabular hat. Jedem Eintrag des Vektors wird anhand des Vokabulars ein Wort zugeordnet. Der Satz/Text wird dann als Vektor aus **absoluten Termhäufigkeiten** dargestellt, wo an jeder Stelle, an dem ein Wort aus dem Vokabular in dem Text vorkommt, die Häufigkeit des Wortes in dem jeweiligen Satz/Text steht und an jeder anderen Stelle eine $0$, da es kein einziges Mal vorkommt.[<sup>1</sup>](#fn1) Dies soll im Folgenden anhand eines Code-Beispiels erläutert werden. Zuerst wird das Vokabular aller Texte dargestellt, bei dem die Wörter einem Index zugeordnet werden (es wird ab $0$ gezählt). Danach werden die vektorisierten Sätze/Texte angezeigt.\n",
    "\n",
    "<hr style=\"border: 0.1px solid black;\"/>\n",
    "<div id=\"fn1\" style=\"font-size:8pt; line-height:1; padding-left: 1em; text-indent: -1em\"><sup style=\"font-size:5pt\">1</sup> &nbsp;Dies ist nur eine Möglichkeit, die Häufigkeit eines Wortes beim Bag-of-Words Modell darzustellen. Eine weitere Möglichkeit wären <b>binäre Häufigkeiten</b>, bei denen das Vorkommen eines Wortes mit einer $1$ und die Abwesenheit eines Wortes mit einer $0$ gekennzeichnet werden. Um häufigen Wörtern in den Dokumenten weniger Gewicht zu geben, da diese meist einen geringeren Informationsgehalt besitzen, ist es auch möglich, das Bag-of-Words Modell in der Kombination mit dem <b>TF-IDF Maß</b> aus dem Bereich des Information Retrievals zu verwenden, bei dem die Häufigkeit von Worten skaliert wird.</div> "
   ]
  },
  {
   "cell_type": "code",
   "execution_count": null,
   "metadata": {},
   "outputs": [],
   "source": [
    "text = [\"ich gehe nachher zur bank, um etwas geld zu holen\",\n",
    "        \"ich möchte mich kurz auf die bank setzen\",\n",
    "        \"um mir etwas zu essen zu holen, stand ich von der bank auf\", \n",
    "        \"auf der hölzernen bank neben der bank liegt noch geld\"]\n",
    "\n",
    "vectorizer = CountVectorizer()\n",
    "vector = vectorizer.fit_transform(text)\n",
    "print(vectorizer.vocabulary_)"
   ]
  },
  {
   "cell_type": "code",
   "execution_count": null,
   "metadata": {},
   "outputs": [],
   "source": [
    "print(vector.toarray())"
   ]
  },
  {
   "cell_type": "markdown",
   "metadata": {},
   "source": [
    "## Grenzen des Bag-of-Words Modells\n",
    "\n",
    "Aufgrund seiner Einfachheit ist das Bag-of-Words Modell leicht verständlich und sehr schnell umsetzbar. Es hat jedoch eine Reihe an Nachteilen, von deinen einige im Folgenden kurz erläutert werden:\n",
    "\n",
    "- **Keine Informationen über Reihenfolge der Wörter.** Beim Bag-of-Words Modell wird jegliche Information über die Reihenfolge der Wörter verworfen, der Kontext eines Wortes bleibt unberücksichtigt. Dies wird auch durch den Namen dieses Modells deutlich: Die Bezeichnung \"bag\" (deutsch: Sack) soll darauf hinweisen, dass alle Informationen über die Struktur oder Reihenfolge der Wörter im Dokument verworfen werden, da sie metaphorisch in einen \"Sack\" geworfen werden. Die Reihenfolge lässt sich auch nicht im Nachhinein rekonstruieren. Insgesamt gehen somit sehr viele semantische Informationen verloren. Eine Lösung, bei der die Reihenfolge der Worte berücksichtigt werden kann, ist die Verwendung von **N-Grammen** oder **LSA** (Kapitel 2 TODO). \n",
    "- **Spärlichkeit von Wortvektoren.** Umso mehr verschiedene Worte in den verwendeten Texten vorkommen, umso größer wird das Vokabular. Dies kann oft zu sehr spärlichen (engl. *sparse*) Wortvektoren führen. Besteht das Vokabular aus 500000 Worten, ein Text aber nur aus 50 verschiedenen Worten, sind nur 0.01% der Stellen des 500000 langen Wortvektors mit Einsen besetzt, der Rest nur mit Nullen. Dies führt dazu, dass eine große Menge an Rechenspeicher für die Verarbeitung der riesigen Matrizen benötigt wird. Weiterhin werden wenige Informationen in sehr großen Repräsentationsräumen benutzt, wodurch es für einige NLP Verfahren und Modelle problematisch ist, diese wenigen Informationen effizient zu nutzen. Eine Lösung bieten dichtbesetzte **Word Embeddings**, die in den nächsten Kapiteln behandelt werden.\n",
    "- **Abbildung der Mehrdeutigkeit von Worten**. Wörter können trotz gleicher Schreibweise mehrere Bedeutungen haben, welche sich durch den Kontext des Wortes zeigen können. Dies wird durch das Bag-of-Words Modell nicht abgebildet. Eine mögliche Lösung wäre die Verwendung von **kontextabhängigen Word Embeddings** wie die **BERT-Embeddings** in Kapitel 3.6 (TODO)."
   ]
  },
  {
   "cell_type": "markdown",
   "metadata": {},
   "source": [
    "# LSA\n",
    "\n",
    "**Latent Semantic Analysis** (kurz: LSA, auch: *Latent Semantic Indexing*) ist ein Verfahren aus dem Bereich des Information Retrievals aus dem Jahre 1990. Bei diesem Verfahren werden Dokumente und Terme (repräsentiert durch eine **Term-Dokument Matrix**) in einem latenten Raum abgebildet, der aus **Konzepten** (oder **Hauptkomponenten**) besteht. Dokumente, die ähnlich zueinander sind, d.h. aus ähnlichen Konzepten bestehen, werden in diesem Raum näher beieinander platziert. Dies wird durch die folgende Grafik deutlich.\n",
    "\n",
    "\n",
    "![lsa](img/lsa.png)\n",
    "\n",
    "Grafik von Susan Dumais, siehe <a href=\"http://www.ifis.uni-luebeck.de/~moeller/tuhh-lectures/mmieir-sose-12/05-Latent-Semantic-Analysis.pdf\">Präsentation</a>."
   ]
  },
  {
   "cell_type": "markdown",
   "metadata": {},
   "source": [
    "Das Ziel der LSA ist es, die Konzepte innerhalb der Dokumente zu finden. Dabei greift das Verfahren auf eine Technik der linearen Algebra zurück, der **Singulärwertzerlegung** (englisch: Singular Value Decomposition). Die Idee dabei ist, dass die Term-Dokument Matrix aus **Hauptdimensionen**, welche die wichtigen Konzepte der Dokumente beinhalten, und aus weniger aussagekräftigen Dimensionen mit unwichtigen Termen besteht. Mithilfe der Singulärwertzerlegung wird die originale Term-Dokument Matrix in drei Matrizen aufgeteilt, wobei die beiden äußeren Matrizen aus den linken bzw. rechten orthonormalen Eigenvektoren bestehen und die mittlere Matrix eine Diagonalmatrix ist, die die singulären Werte der Originalmatrix enthält. Mit Hilfe dieser Zerlegung kann eine **Approximation** der Originalmatrix mit einer kleiner dimensionierten Matrix erreicht werden. Die singulären Werte in der Diagonalmatrix sind nach ihrer Größe absteigend geordnet. Singulärwerte, die unter einem bestimmten Schwellenwert liegen, werden entfernt. Auch in den anderen Matrizen werden entsprechende Zeilen oder Spalten entfernt. Mit Hilfe der reduzierten Matrizen erhält man durch Matrixmultiplikation die optimale Approximation der Originalmatrix, die kleiner als die originale Term-Dokument Matrix ist, da Informationen aus den weniger aussagekräftigen Dimensionen verworfen wurden. Weiterhin werden bei der Dimensionsreduktion auch ähnliche Konzepte zusammengefasst, so werden z.B. Worte wie \"Tür\" und \"Tor\" in einem Konzept zusammengefasst.\n",
    "\n",
    "Der Vorteil der LSA ist, dass anders als beim Bag-of-Words Modell die **Semantik** der Dokumente wiedergegeben werden kann. Zudem werden **Synonyme** zusammengefasst. Probleme hat LSA jedoch mit der **Polysemie**. Zudem ist der Algorithmus sehr rechenaufwendig.\n",
    "\n",
    "TODO: mehr?"
   ]
  },
  {
   "cell_type": "markdown",
   "metadata": {},
   "source": [
    "# Word Embeddings\n",
    "\n",
    "## Allgemeines\n",
    "\n",
    "**Word Embeddings** (deutsch: Worteinbettungen) sind die Sammelbezeichnung für eine Reihe von Sprachmodellierungstechniken. Anders als beim Bag-of-Words Modell werden Wörter mit ähnlichen Bedeutungen ähnlich dargestellt, wobei der Kontext der Wörter berücksichtigt wird. Word Embeddings repräsentieren Wörter als Vektoren in einem multidimensionalen semantischen Raum. In diesem Raum werden Wörter, die ähnlich zueinander sind, näher beieinander platziert. Diesen Raum kann man sich etwa folgendermaßen vorstellen:<br>\n",
    "\n",
    "\n",
    "![wordembeddings](img/we_space.jpg)"
   ]
  },
  {
   "cell_type": "markdown",
   "metadata": {},
   "source": [
    "Die grundsätzliche Idee von Word Embeddings basiert auf der **Distributionellen Hypothese** von  John Rupert Firth, die besagt, dass die Bedeutung eines Wortes durch sein Umfeld geprägt ist. Wörter, die einen ähnlichen Kontext besitzen, haben eine ähnliche Bedeutung. Anders als vorherige Vektorisierungsmethoden basieren Word Embeddings auf **Vorhersagemodellen** (englisch: **prediction models**)[<sup>2</sup>](#fn2), indem Wörter durch Wahrscheinlichkeiten anstatt durch Häufigkeiten wie beim Bag-of-Words Modell oder bei der Latent Semantic Analysis dargestellt werden. Weiterhin sind die Wortvektoren von Word Embeddings anders als beim Bag-of-Words Modell **dichtbesetzt** (englisch: **dense**) und haben weitaus weniger Dimensionen (100-800 Dimensionen anstatt 100000-1000000, je nach der Größe des Vokabulars). Dadurch haben die Wortvektoren eine viel geringere Größe, bieten trotzdem eine effizientere und komplexere Darstellung der Wörter.\n",
    "\n",
    "Eine weitere Besonderheit von Word Embeddings ist, dass es mit diesen möglich ist, eine Arithmetik mit Wörtern umzusetzen. So kann mit Wortvektoren \"gerechnet\" werden. Folgende Gleichungen sind mit Word Embeddings möglich:\n",
    "\n",
    "`König - Mann + Frau = Königin`<br>\n",
    "\n",
    "`London - Großbritannien + Deutschland = Berlin`\n",
    "\n",
    "\n",
    "Word Embeddings wurden ab 2013 durch die Einführung des Algorithmus **Word2Vec** populär, in den Jahren darauf folgten weitere Word Embedding Algorithmen wie **GloVe**, **FastText**, **ELMo** und **BERT**. In der folgenden Tabelle sind die wichtigsten Unterschiede der verschiedenen Embeddings zusammengefasst, genauere Erläuterungen der Embeddings befinden sich in den folgenden Kapiteln.\n",
    "\n",
    "\n",
    "<hr style=\"border: 0.1px solid black;\"/>\n",
    "<div id=\"fn2\" style=\"font-size:8pt; line-height:1; padding-left: 1em; text-indent: -1em\"><sup style=\"font-size:5pt\">2</sup> &nbsp;Obwohl GloVe eigentlich kein Vorhersagemodell verwendet, unterscheidet sich GloVe trotzdem stark von vorhergehenden, Häufigkeits-basierenden Modellen, weshalb es oft als Vohersagemodell angesehen wird, siehe LEVY et. al. (2015), Improving Distributional Similarity with Lessons Learned from Word Embeddings, https://levyomer.files.wordpress.com/2015/03/improving-distributional-similarity-tacl-2015.pdf (abgerufen am 31.07.2020).</div>"
   ]
  },
  {
   "cell_type": "markdown",
   "metadata": {},
   "source": [
    "TODO: ausfüllen & mehr, gucken wie anders dargestellt werden kann\n",
    "\n",
    "<table>\n",
    "    <th></th>\n",
    "    <th>Word2Vec</th>\n",
    "    <th>GloVe</th>\n",
    "    <th>FastText</th>\n",
    "    <th>ELMo</th>\n",
    "    <th>BERT</th>\n",
    "    <tr>\n",
    "        <td>Entstehungsjahr</td>\n",
    "        <td>2013</td>\n",
    "        <td>2014</td>\n",
    "        <td>2016</td>\n",
    "        <td>2018</td>\n",
    "        <td>2018</td>\n",
    "    </tr> \n",
    "    <tr>\n",
    "        <td>Out of vocabulary Fehler</td>\n",
    "        <td>ja</td>\n",
    "        <td>ja</td>\n",
    "        <td>nein</td>\n",
    "        <td>nein</td>\n",
    "        <td>nein</td>\n",
    "    </tr> \n",
    "    <tr>\n",
    "        <td>Kontextsensitiv</td>\n",
    "        <td>nein</td>\n",
    "        <td>nein</td>\n",
    "        <td>nein</td>\n",
    "        <td>ja</td>\n",
    "        <td>ja</td>\n",
    "    </tr> \n",
    "    <tr>\n",
    "        <td></td>\n",
    "        <td></td>\n",
    "        <td></td>\n",
    "        <td></td>\n",
    "        <td></td>\n",
    "        <td></td>\n",
    "    </tr> \n",
    "</table>"
   ]
  },
  {
   "cell_type": "markdown",
   "metadata": {},
   "source": [
    "## Word2Vec\n",
    "\n",
    "Die Popularität von Word Embeddings ist vor allem **Word2Vec** geschuldet, welches 2013 von Tomas Mikolov und weiteren Mitgliedern von Google publiziert wurde. Word2Vec basiert auf einer simplen und effektiven Feedforward Neuronalen Netzstruktur. Word2Vec implementiert zwei verschiedene Ansätze zur Berechnung der Wortwahrscheinlichkeiten: **Continous Bag of Words** (**CBOW**) und das **Skip-gram Modell**. \n",
    "\n",
    "**Continous Bag of Words** versucht die Wahrscheinlichkeit eines Wortes oder einer Gruppe von Wörtern anhand eines gegebenen Kontext vorauszusagen:\n",
    "\n",
    "![cbow](img/cbow.png)\n",
    "\n",
    "\n",
    "Das **Skip-gram Model** funktioniert wie CBOW, nur anders herum. Das Modell versucht, anhand eines gegebenen Wortes den Kontext vorauszusagen:\n",
    "\n",
    "![skip-gram](img/skipgram.png)\n",
    "\n",
    "<br>Word2Vec nutzt wahlweise eine dieser Techniken, um aus rohen Textdaten mithilfe eines Neuronales Netzes Wortvektoren zu erstellen. Dabei kann Word2Vec bei vielen Implementierungen (z.b. bei Gensim) auf zwei Arten verwendet werden: Entweder werden bereits vortrainierte Embeddings geladen oder es werden eigene Embeddings auf eigenen Textdaten trainiert."
   ]
  },
  {
   "cell_type": "markdown",
   "metadata": {},
   "source": [
    "### Vortrainierte Embeddings verwenden\n",
    "\n",
    "Für die Demonstration der Nutzung von vortrainierten Word Embeddings wird ein deutsches Modell verwendet, welches auf Wikipedia- und Zeitungsartikeln trainiert wurde ([Quelle](https://devmount.github.io/GermanWordEmbeddings/)). Als Framework wird **Gensim** verwendet."
   ]
  },
  {
   "cell_type": "code",
   "execution_count": 8,
   "metadata": {},
   "outputs": [],
   "source": [
    "pre_w2v = gensim.models.KeyedVectors.load_word2vec_format('german_model.bin', \n",
    "                                                          binary=True)"
   ]
  },
  {
   "cell_type": "markdown",
   "metadata": {},
   "source": [
    "Im folgenden Code werden die 10 ähnlichsten Wörter zu \"König\" ausgegeben. Alle diese Wörter passen auch thematisch zu \"König\", sie verbindet alle das Thema \"royal\" bzw. \"Königshaus\"."
   ]
  },
  {
   "cell_type": "code",
   "execution_count": 49,
   "metadata": {},
   "outputs": [
    {
     "name": "stdout",
     "output_type": "stream",
     "text": [
      "Prinz: 0.786\n",
      "Koenigs: 0.736\n",
      "Koenigin: 0.726\n",
      "Jungkoenig: 0.705\n",
      "Kaiser: 0.705\n"
     ]
    }
   ],
   "source": [
    "for t in pre_w2v.most_similar('Koenig', topn=5): \n",
    "    print(f\"{t[0]}: {np.around(t[1], decimals=3)}\")"
   ]
  },
  {
   "cell_type": "markdown",
   "metadata": {},
   "source": [
    "Auch das Rechenbeispiel aus Kapitel 3.1 TODO kann mit Word2Vec umgesetzt werden. Addiert man \"König\" mit \"Frau\" und subtrahiert \"Mann\", erhält man Begriffe zum Thema \"Königin\"."
   ]
  },
  {
   "cell_type": "code",
   "execution_count": 13,
   "metadata": {},
   "outputs": [
    {
     "name": "stdout",
     "output_type": "stream",
     "text": [
      "Koenigin: 0.752\n",
      "Prinzessin: 0.715\n",
      "Prinz: 0.688\n",
      "Jungschuetzenkoenigin: 0.674\n",
      "Majestaet: 0.659\n"
     ]
    }
   ],
   "source": [
    "for t in pre_w2v.most_similar(positive=['Koenig', 'Frau'],\n",
    "                              negative=['Mann'], topn=5):\n",
    "    print(f\"{t[0]}: {np.around(t[1], decimals=3)}\")"
   ]
  },
  {
   "cell_type": "markdown",
   "metadata": {},
   "source": [
    "Weiterhin kann man auch ein Wort mit einer Liste von anderen Wörtern vergleichen und abfragen, welchem Wort aus der Liste das Wort am ähnlichsten ist oder man überprüft bei einer Liste von Wörtern, welches Wort nicht passt."
   ]
  },
  {
   "cell_type": "code",
   "execution_count": 20,
   "metadata": {},
   "outputs": [
    {
     "name": "stdout",
     "output_type": "stream",
     "text": [
      "Welches Wort ist am ähnlichsten zu 'Banane'? -> Apfel\n",
      "Welches Wort nicht zu den anderen Wörtern? -> Berg\n"
     ]
    }
   ],
   "source": [
    "most_similar = pre_w2v.most_similar_to_given('Banane', ['Koenig', 'Berg', \n",
    "                                                        'Haus', 'Apfel'])\n",
    "doesnt_match = pre_w2v.doesnt_match(['Koenig', 'Thron', 'Berg', 'Prinzessin'])\n",
    "print(f\"Welches Wort ist am ähnlichsten zu 'Banane'? -> {most_similar}\")\n",
    "print(f\"Welches Wort nicht zu den anderen Wörtern? -> {doesnt_match}\")"
   ]
  },
  {
   "cell_type": "markdown",
   "metadata": {},
   "source": [
    "Die Wortvektoren können mit verwandeten Wörtern (hier die 5 ähnlichsten Wörter) auch geplottet werden, wodurch die einzelnen Themen sehr gut sichtbar sind."
   ]
  },
  {
   "cell_type": "code",
   "execution_count": 12,
   "metadata": {},
   "outputs": [
    {
     "data": {
      "image/png": "[encoded data removed]",
      "text/plain": [
       "<Figure size 576x288 with 1 Axes>"
      ]
     },
     "metadata": {
      "needs_background": "light"
     },
     "output_type": "display_data"
    }
   ],
   "source": [
    "wordlist = ['Haus', 'Berg', 'Koenig', 'gehen']\n",
    "plot_word_embeddings(pre_w2v, wordlist, figsize=(8,4))"
   ]
  },
  {
   "cell_type": "markdown",
   "metadata": {},
   "source": [
    "### Eigene Embeddings trainieren\n",
    "\n",
    "Es ist auch möglich, eigene Embeddings zu trainieren. Dabei muss sich zuvor für die Technik **CBOW** oder **Skip-gram** entschieden werden (wird durch den Parameter `sg`gesteuert). Es wurde der englische Datensatz **Amazon Reviews** verwendet ([Quelle](https://nijianmo.github.io/amazon/index.html)). Dieser wurde für Demonstrationszwecke auf Reviews zu elektronischen Geräten aus dem Jahr 2018 gekürzt. Auch hier passen die ähnlichsten 5 Wörter sehr gut zum ausgewählten Wort *smartphone*."
   ]
  },
  {
   "cell_type": "code",
   "execution_count": 23,
   "metadata": {},
   "outputs": [
    {
     "name": "stdout",
     "output_type": "stream",
     "text": [
      "CPU times: user 6min 1s, sys: 4.19 s, total: 6min 5s\n",
      "Wall time: 2min 53s\n"
     ]
    }
   ],
   "source": [
    "%%time\n",
    "word2vec_cbow = Word2Vec(texts, min_count=1, size=100, window=5, sg=0)\n",
    "word2vec_skipgram = Word2Vec(texts, min_count=1, size=100, window=5, sg=1)"
   ]
  },
  {
   "cell_type": "code",
   "execution_count": 26,
   "metadata": {},
   "outputs": [
    {
     "data": {
      "text/plain": [
       "[('iphone', 0.7408102750778198),\n",
       " ('phones', 0.657496452331543),\n",
       " ('ph', 0.635297954082489),\n",
       " ('car', 0.626123309135437),\n",
       " ('cell', 0.6212888956069946)]"
      ]
     },
     "execution_count": 26,
     "metadata": {},
     "output_type": "execute_result"
    }
   ],
   "source": [
    "word2vec_cbow.wv.most_similar('phone', topn=5)"
   ]
  },
  {
   "cell_type": "markdown",
   "metadata": {},
   "source": [
    "## GloVe\n",
    "\n",
    "**GloVe** (= Global Vectors) wurde 2014 von Pennigton et. al. veröffentlicht. Vor der Veröffentlichung von Globe ließen sich die Wortvektorisierungsmethoden in zwei Hauptströmungen unterteilen: das Statistik-basierende **LDA**[<sup>3</sup>](#fn3) und das lernbasierte **Word2Vec**. Während LDA Wörter mithilfe von Häufigkeiten in einer Kookkurrenz-Matrix darstellt, verwendet Word2Vec zur Darstellung der Wörter Wortwahrscheinlichkeiten, die mithilfe eines Voraussage-Modells erstellt wurden. **GloVe** verwendet wie LDA für die Darstellung der Häufigkeiten eine Kookkurrenz-Matrix, wobei GloVe die Häufigkeiten vorher normalisiert und mithilfe des Logarithmus *\"glättet\"* (englisch: *smoothing*). Anders als Word2Vec benutzt es für die Erstellung der Embeddings also keine neuronalen Netze, die erst durch ein Training die Wortbeziehungen erlernen, sondern die Beziehungen werden **global** (daher auch der Name) mithilfe einer Mischung aus maschinellem Lernen und statischen Verfahren aus den Texten gewonnen.\n",
    "\n",
    "<hr style=\"border: 0.1px solid black;\"/>\n",
    "<div id=\"fn3\" style=\"font-size:8pt; line-height:1; padding-left: 1em; text-indent: -1em\"><sup style=\"font-size:5pt\">3</sup> &nbsp;<b>LDA</b> steht für \"Latent Dirichlet allocation\" und ist ein Algorithmus, der Wörter ähnlichen Gruppen anhand der Wahrscheinlichkeit, dass sie zusammen in einem Dokument vorkommen, zuordnet.</div>"
   ]
  },
  {
   "cell_type": "markdown",
   "metadata": {},
   "source": [
    "Für die Demonstatration der Glove-Embeddings wurde die Bibliothek **Flair** verwendet. Jeder Vektor für jedes Token-Embedding hat eine Länge von 100, es wurden jedoch nur die ersten drei Zahlen ausgegeben."
   ]
  },
  {
   "cell_type": "code",
   "execution_count": 56,
   "metadata": {},
   "outputs": [
    {
     "name": "stdout",
     "output_type": "stream",
     "text": [
      "'smartphones': tensor([-0.2138, -0.3245,  0.2806]) (Vektorlänge: 100)\n",
      "'have': tensor([0.1571, 0.6561, 0.0021]) (Vektorlänge: 100)\n",
      "'a': tensor([-0.2709,  0.0440, -0.0203]) (Vektorlänge: 100)\n",
      "'touchscreen': tensor([-0.7974,  0.1240,  0.7148]) (Vektorlänge: 100)\n"
     ]
    }
   ],
   "source": [
    "sentence = Sentence('smartphones have a touchscreen', use_tokenizer=True)\n",
    "WordEmbeddings('glove').embed(sentence)\n",
    "\n",
    "for token in sentence:\n",
    "    print(f\"'{token.text}': {token.embedding[:3]} \" +\n",
    "          f\"(Vektorlänge: {len(token.embedding)})\")"
   ]
  },
  {
   "cell_type": "markdown",
   "metadata": {},
   "source": [
    "## FastText\n",
    "\n",
    "TODO"
   ]
  },
  {
   "cell_type": "markdown",
   "metadata": {},
   "source": [
    "## ELMo\n",
    "\n",
    "TODO"
   ]
  },
  {
   "cell_type": "markdown",
   "metadata": {},
   "source": [
    "## BERT\n",
    "\n",
    "\n",
    "BERT steht für \"Bidirectional Encoder Representations from Transformers\" und brach bei seiner Veröffentlichung 2018 eine ganze Reihe von Rekorden für Aufgaben des Natural Language Processing. "
   ]
  },
  {
   "cell_type": "code",
   "execution_count": null,
   "metadata": {},
   "outputs": [],
   "source": []
  }
 ],
 "metadata": {
  "kernelspec": {
   "display_name": "Python 3",
   "language": "python",
   "name": "python3"
  },
  "language_info": {
   "codemirror_mode": {
    "name": "ipython",
    "version": 3
   },
   "file_extension": ".py",
   "mimetype": "text/x-python",
   "name": "python",
   "nbconvert_exporter": "python",
   "pygments_lexer": "ipython3",
   "version": "3.7.7"
  },
  "toc": {
   "base_numbering": 1,
   "nav_menu": {},
   "number_sections": true,
   "sideBar": true,
   "skip_h1_title": false,
   "title_cell": "Inhaltsverzeichnis",
   "title_sidebar": "Inhalte",
   "toc_cell": true,
   "toc_position": {},
   "toc_section_display": true,
   "toc_window_display": true
  }
 },
 "nbformat": 4,
 "nbformat_minor": 4
}
